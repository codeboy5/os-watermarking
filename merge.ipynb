{
 "cells": [
  {
   "cell_type": "code",
   "execution_count": 1,
   "metadata": {},
   "outputs": [],
   "source": [
    "import os\n",
    "os.environ['CUDA_LAUNCH_BLOCKING'] = \"1\"\n",
    "os.environ['CUDA_VISIBLE_DEVICES'] = \"0\""
   ]
  },
  {
   "cell_type": "code",
   "execution_count": 2,
   "metadata": {},
   "outputs": [
    {
     "data": {
      "text/plain": [
       "<torch._C.Generator at 0x7e117eb66590>"
      ]
     },
     "execution_count": 2,
     "metadata": {},
     "output_type": "execute_result"
    }
   ],
   "source": [
    "\n",
    "import torch\n",
    "import torch.nn as nn\n",
    "import torch.nn.functional as F\n",
    "\n",
    "from tqdm import tqdm, trange\n",
    "from torch.utils.data import TensorDataset, DataLoader, random_split\n",
    "import matplotlib.pyplot as plt\n",
    "\n",
    "import numpy as np\n",
    "import glob\n",
    "torch.manual_seed(42)"
   ]
  },
  {
   "cell_type": "code",
   "execution_count": 3,
   "metadata": {},
   "outputs": [],
   "source": [
    "model_name = \"meta-llama/Llama-2-7b-hf\"\n",
    "\n",
    "balance = False"
   ]
  },
  {
   "cell_type": "code",
   "execution_count": 4,
   "metadata": {},
   "outputs": [
    {
     "name": "stdout",
     "output_type": "stream",
     "text": [
      "Using device:  cuda\n"
     ]
    }
   ],
   "source": [
    "device = torch.device(\"cuda\")\n",
    "print(\"Using device: \", device)"
   ]
  },
  {
   "cell_type": "code",
   "execution_count": 5,
   "metadata": {},
   "outputs": [],
   "source": [
    "model_suffix = model_name.split(\"/\")[-1]\n",
    "X_files = sorted(glob.glob(f\"data/X_dataset_{model_suffix}_*.pt\"))\n",
    "y_files = sorted(glob.glob(f\"data/y_dataset_{model_suffix}_*.pt\"))\n",
    "token_count = torch.load(\"saved_models/openwebtext_token_freq.pt\", map_location='cpu')\n"
   ]
  },
  {
   "cell_type": "code",
   "execution_count": 6,
   "metadata": {},
   "outputs": [],
   "source": [
    "k = 1000\n",
    "top_k_tokens = token_count.argsort(descending=True)[:k]\n",
    "\n"
   ]
  },
  {
   "cell_type": "code",
   "execution_count": 7,
   "metadata": {},
   "outputs": [],
   "source": [
    "balanced_chunks_X = []\n",
    "balanced_chunks_y = []\n",
    "\n",
    "for chunk_idx, (X_file, y_file) in enumerate(zip(X_files, y_files)):\n",
    "    # Save each balanced chunk to disk immediately\n",
    "    balanced_X_path = f\"data/X_balanced_{model_suffix}_{chunk_idx}.pt\"\n",
    "    balanced_y_path = f\"data/y_balanced_{model_suffix}_{chunk_idx}.pt\"\n",
    "\n",
    "    if balance:\n",
    "        # Load current chunk\n",
    "        X = torch.load(X_file, map_location='cpu')\n",
    "        y = torch.load(y_file, map_location='cpu')\n",
    "\n",
    "        # Mask to select only top_k_tokens\n",
    "        mask = torch.tensor(\n",
    "            [label in top_k_tokens for label in y], dtype=torch.bool)\n",
    "        X_filtered = X[mask]\n",
    "        y_filtered = y[mask]\n",
    "\n",
    "        if len(y_filtered) == 0:\n",
    "            continue  # Skip empty chunks\n",
    "\n",
    "        # Count occurrences of each class\n",
    "        unique_classes, counts = torch.unique(y_filtered, return_counts=True)\n",
    "\n",
    "        # Compute the target sample size (undersampling to min class count)\n",
    "        min_count = torch.min(counts).item()\n",
    "\n",
    "        # Efficient undersampling with direct indexing\n",
    "        sampled_indices = []\n",
    "        for cls in unique_classes.tolist():\n",
    "            class_indices = (y_filtered == cls).nonzero(as_tuple=True)[0]\n",
    "\n",
    "            # Use efficient sampling instead of random permutation\n",
    "            if len(class_indices) > min_count:\n",
    "                sampled_indices.extend(class_indices[torch.randperm(\n",
    "                    len(class_indices))[:min_count]].tolist())\n",
    "            else:\n",
    "                sampled_indices.extend(class_indices.tolist())\n",
    "\n",
    "        # Convert to tensor for indexing\n",
    "        sampled_indices = torch.tensor(sampled_indices, dtype=torch.long)\n",
    "\n",
    "        # Apply undersampling\n",
    "        X_balanced = X_filtered[sampled_indices]\n",
    "        y_balanced = y_filtered[sampled_indices]\n",
    "\n",
    "        torch.save(X_balanced, balanced_X_path)\n",
    "        torch.save(y_balanced, balanced_y_path)\n",
    "        print(\n",
    "            f\"Processed chunk {chunk_idx}: Saved {len(y_balanced)} balanced samples.\")\n",
    "\n",
    "    balanced_chunks_X.append(balanced_X_path)\n",
    "    balanced_chunks_y.append(balanced_y_path)"
   ]
  },
  {
   "cell_type": "code",
   "execution_count": 8,
   "metadata": {},
   "outputs": [],
   "source": [
    "# Combine all balanced chunks\n",
    "X_balanced_all = []\n",
    "y_balanced_all = []\n",
    "\n",
    "for X_balanced_path, y_balanced_path in zip(balanced_chunks_X, balanced_chunks_y):\n",
    "    X_balanced_all.append(torch.load(X_balanced_path))\n",
    "    y_balanced_all.append(torch.load(y_balanced_path))\n",
    "\n",
    "X_final = torch.cat(X_balanced_all, dim=0)\n",
    "y_final = torch.cat(y_balanced_all, dim=0)"
   ]
  },
  {
   "cell_type": "code",
   "execution_count": 9,
   "metadata": {},
   "outputs": [
    {
     "name": "stdout",
     "output_type": "stream",
     "text": [
      "Final class distribution: tensor([2362, 2362, 2362, 2362, 2362, 2362, 2362, 2362, 2362, 2362, 2362, 2362,\n",
      "        2362, 2362, 2362, 2362, 2362, 2362, 2362, 2362, 2362, 2362, 2362, 2362,\n",
      "        2362, 2362, 2362, 2362, 2362, 2362, 2362, 2362, 2362, 2362, 2362, 2362,\n",
      "        2362, 2362, 2362, 2362, 2362, 2362, 2362, 2362, 2362, 2362, 2362, 2362,\n",
      "        2362, 2362, 2362, 2362, 2362, 2362, 2362, 2362, 2362, 2362, 2362, 2362,\n",
      "        2362, 2362, 2362, 2362, 2362, 2362, 2362, 2362, 2362, 2362, 2362, 2362,\n",
      "        2362, 2362, 2362, 2362, 2362, 2362, 2362, 2362, 2362, 2362, 2362, 2362,\n",
      "        2362, 2362, 2362, 2362, 2362, 2362, 2362, 2362, 2362, 2362, 2362, 2362,\n",
      "        2362, 2362, 2362, 2362, 2362, 2362, 2362, 2362, 2362, 2362, 2362, 2362,\n",
      "        2362, 2362, 2362, 2362, 2362, 2362, 2362, 2362, 2362, 2362, 2362, 2362,\n",
      "        2362, 2362, 2362, 2362, 2362, 2362, 2362, 2362, 2362, 2362, 2362, 2362,\n",
      "        2362, 2362, 2362, 2362, 2362, 2362, 2362, 2362, 2362, 2362, 2362, 2362,\n",
      "        2362, 2362, 2362, 2362, 2362, 2362, 2362, 2362, 2362, 2362, 2362, 2362,\n",
      "        2362, 2362, 2362, 2362, 2362, 2362, 2362, 2362, 2362, 2362, 2362, 2362,\n",
      "        2362, 2362, 2362, 2362, 2362, 2362, 2362, 2362, 2362, 2362, 2362, 2362,\n",
      "        2362, 2362, 2362, 2362, 2362, 2362, 2362, 2362, 2362, 2362, 2362, 2362,\n",
      "        2362, 2362, 2362, 2362, 2362, 2362, 2362, 2362, 2362, 2362, 2362, 2362,\n",
      "        2362, 2362, 2362, 2362, 2362, 2362, 2362, 2362, 2362, 2362, 2362, 2362,\n",
      "        2362, 2362, 2362, 2362, 2362, 2362, 2362, 2362, 2362, 2362, 2362, 2362,\n",
      "        2362, 2362, 2362, 2362, 2362, 2362, 2362, 2362, 2362, 2362, 2362, 2362,\n",
      "        2362, 2362, 2362, 2362, 2362, 2362, 2362, 2362, 2362, 2362, 2362, 2362,\n",
      "        2362, 2362, 2362, 2362, 2362, 2362, 2362, 2362, 2362, 2362, 2362, 2362,\n",
      "        2362, 2362, 2362, 2362, 2362, 2362, 2362, 2362, 2362, 2362, 2362, 2362,\n",
      "        2362, 2362, 2362, 2362, 2362, 2362, 2362, 2362, 2362, 2362, 2362, 2362,\n",
      "        2362, 2362, 2362, 2362, 2362, 2362, 2362, 2362, 2362, 2362, 2362, 2362,\n",
      "        2362, 2362, 2362, 2362, 2362, 2362, 2362, 2362, 2362, 2362, 2362, 2362,\n",
      "        2362, 2362, 2362, 2362, 2362, 2362, 2362, 2362, 2362, 2362, 2362, 2362,\n",
      "        2362, 2362, 2362, 2362, 2362, 2362, 2362, 2362, 2362, 2362, 2362, 2362,\n",
      "        2362, 2362, 2362, 2362, 2362, 2362, 2362, 2362, 2362, 2362, 2362, 2362,\n",
      "        2362, 2362, 2362, 2362, 2362, 2362, 2362, 2362, 2362, 2362, 2362, 2362,\n",
      "        2362, 2362, 2362, 2362, 2362, 2362, 2362, 2362, 2362, 2362, 2362, 2362,\n",
      "        2362, 2362, 2362, 2362, 2362, 2362, 2362, 2362, 2362, 2362, 2362, 2362,\n",
      "        2362, 2362, 2362, 2362, 2362, 2362, 2362, 2362, 2362, 2362, 2362, 2362,\n",
      "        2362, 2362, 2362, 2362, 2362, 2362, 2362, 2362, 2362, 2362, 2362, 2362,\n",
      "        2362, 2362, 2362, 2362, 2362, 2362, 2362, 2362, 2362, 2362, 2362, 2362,\n",
      "        2362, 2362, 2362, 2362, 2362, 2362, 2362, 2362, 2362, 2362, 2362, 2362,\n",
      "        2362, 2362, 2362, 2362, 2362, 2362, 2362, 2362, 2362, 2362, 2362, 2362,\n",
      "        2362, 2362, 2362, 2362, 2362, 2362, 2362, 2362, 2362, 2362, 2362, 2362,\n",
      "        2362, 2362, 2362, 2362, 2362, 2362, 2362, 2362, 2362, 2362, 2362, 2362,\n",
      "        2362, 2362, 2362, 2362, 2362, 2362, 2362, 2362, 2362, 2362, 2362, 2362,\n",
      "        2362, 2362, 2362, 2362, 2362, 2362, 2362, 2362, 2362, 2362, 2362, 2362,\n",
      "        2362, 2362, 2362, 2362, 2362, 2362, 2362, 2362, 2362, 2362, 2362, 2362,\n",
      "        2362, 2362, 2362, 2362, 2362, 2362, 2362, 2362, 2362, 2362, 2362, 2362,\n",
      "        2362, 2362, 2362, 2362, 2362, 2362, 2362, 2362, 2362, 2362, 2362, 2362,\n",
      "        2362, 2362, 2362, 2362, 2362, 2362, 2362, 2362, 2362, 2362, 2362, 2362,\n",
      "        2362, 2362, 2362, 2362, 2362, 2362, 2362, 2362, 2362, 2362, 2362, 2362,\n",
      "        2362, 2362, 2362, 2362, 2362, 2362, 2362, 2362, 2362, 2362, 2362, 2362,\n",
      "        2362, 2362, 2362, 2362, 2362, 2362, 2362, 2362, 2362, 2362, 2362, 2362,\n",
      "        2362, 2362, 2362, 2362, 2362, 2362, 2362, 2362, 2362, 2362, 2362, 2362,\n",
      "        2362, 2362, 2362, 2362, 2362, 2362, 2362, 2362, 2362, 2362, 2362, 2362,\n",
      "        2362, 2362, 2362, 2362, 2362, 2362, 2362, 2362, 2362, 2362, 2362, 2362,\n",
      "        2362, 2362, 2362, 2362, 2362, 2362, 2362, 2362, 2362, 2362, 2362, 2362,\n",
      "        2362, 2362, 2362, 2362, 2362, 2362, 2362, 2362, 2362, 2362, 2362, 2362,\n",
      "        2362, 2362, 2362, 2362, 2362, 2362, 2362, 2362, 2362, 2362, 2362, 2362,\n",
      "        2362, 2362, 2362, 2362, 2362, 2362, 2362, 2362, 2362, 2362, 2362, 2362,\n",
      "        2362, 2362, 2362, 2362, 2362, 2362, 2362, 2362, 2362, 2362, 2362, 2362,\n",
      "        2362, 2362, 2362, 2362, 2362, 2362, 2362, 2362, 2362, 2362, 2362, 2362,\n",
      "        2362, 2362, 2362, 2362, 2362, 2362, 2362, 2362, 2362, 2362, 2362, 2362,\n",
      "        2362, 2362, 2362, 2362, 2362, 2362, 2362, 2362, 2362, 2362, 2362, 2362,\n",
      "        2362, 2362, 2362, 2362, 2362, 2362, 2362, 2362, 2362, 2362, 2362, 2362,\n",
      "        2362, 2362, 2362, 2362, 2362, 2362, 2362, 2362, 2362, 2362, 2362, 2362,\n",
      "        2362, 2362, 2362, 2362, 2362, 2362, 2362, 2362, 2362, 2362, 2362, 2362,\n",
      "        2362, 2362, 2362, 2362, 2362, 2362, 2362, 2362, 2362, 2362, 2362, 2362,\n",
      "        2362, 2362, 2362, 2362, 2362, 2362, 2362, 2362, 2362, 2362, 2362, 2362,\n",
      "        2362, 2362, 2362, 2362, 2362, 2362, 2362, 2362, 2362, 2362, 2362, 2362,\n",
      "        2362, 2362, 2362, 2362, 2362, 2362, 2362, 2362, 2362, 2362, 2362, 2362,\n",
      "        2362, 2362, 2362, 2362, 2362, 2362, 2362, 2362, 2362, 2362, 2362, 2362,\n",
      "        2362, 2362, 2362, 2362, 2362, 2362, 2362, 2362, 2362, 2362, 2362, 2362,\n",
      "        2362, 2362, 2362, 2362, 2362, 2362, 2362, 2362, 2362, 2362, 2362, 2362,\n",
      "        2362, 2362, 2362, 2362, 2362, 2362, 2362, 2362, 2362, 2362, 2362, 2362,\n",
      "        2362, 2362, 2362, 2362, 2362, 2362, 2362, 2362, 2362, 2362, 2362, 2362,\n",
      "        2362, 2362, 2362, 2362, 2362, 2362, 2362, 2362, 2362, 2362, 2362, 2362,\n",
      "        2362, 2362, 2362, 2362, 2362, 2362, 2362, 2362, 2362, 2362, 2362, 2362,\n",
      "        2362, 2362, 2362, 2362, 2362, 2362, 2362, 2362, 2362, 2362, 2362, 2362,\n",
      "        2362, 2362, 2362, 2362, 2362, 2362, 2362, 2362, 2362, 2362, 2362, 2362,\n",
      "        2362, 2362, 2362, 2362, 2362, 2362, 2362, 2362, 2362, 2362, 2362, 2362,\n",
      "        2362, 2362, 2362, 2362, 2362, 2362, 2362, 2362, 2362, 2362, 2362, 2362,\n",
      "        2362, 2362, 2362, 2362, 2362, 2362, 2362, 2362, 2362, 2362, 2362, 2362,\n",
      "        2362, 2362, 2362, 2362, 2362, 2362, 2362, 2362, 2362, 2362, 2362, 2362,\n",
      "        2362, 2362, 2362, 2362, 2362, 2362, 2362, 2362, 2362, 2362, 2362, 2362,\n",
      "        2362, 2362, 2362, 2362, 2362, 2362, 2362, 2362, 2362, 2362, 2362, 2362,\n",
      "        2362, 2362, 2362, 2362, 2362, 2362, 2362, 2362, 2362, 2362, 2362, 2362,\n",
      "        2362, 2362, 2362, 2362, 2362, 2362, 2362, 2362, 2362, 2362, 2362, 2362,\n",
      "        2362, 2362, 2362, 2362])\n",
      "Mean class count: 2362.0\n",
      "Std class count: 0.0\n"
     ]
    }
   ],
   "source": [
    "# Get final class distribution\n",
    "classes, class_counts = torch.unique(y_final, return_counts=True)\n",
    "\n",
    "mean_class_count = class_counts.float().mean().item()\n",
    "std_class_count = class_counts.float().std().item()\n",
    "\n",
    "print(f\"Mean class count: {mean_class_count}\")\n",
    "print(f\"Std class count: {std_class_count}\")"
   ]
  },
  {
   "cell_type": "code",
   "execution_count": 10,
   "metadata": {},
   "outputs": [
    {
     "ename": "",
     "evalue": "",
     "output_type": "error",
     "traceback": [
      "\u001b[1;31mThe Kernel crashed while executing code in the current cell or a previous cell. \n",
      "\u001b[1;31mPlease review the code in the cell(s) to identify a possible cause of the failure. \n",
      "\u001b[1;31mClick <a href='https://aka.ms/vscodeJupyterKernelCrash'>here</a> for more info. \n",
      "\u001b[1;31mView Jupyter <a href='command:jupyter.viewOutput'>log</a> for further details."
     ]
    }
   ],
   "source": [
    "# Save final dataset\n",
    "torch.save(X_final, f\"data/X_dataset_{model_suffix}_top{k}.pt\")\n",
    "torch.save(y_final, f\"data/y_dataset_{model_suffix}_top{k}.pt\")"
   ]
  }
 ],
 "metadata": {
  "kernelspec": {
   "display_name": "venv",
   "language": "python",
   "name": "python3"
  },
  "language_info": {
   "codemirror_mode": {
    "name": "ipython",
    "version": 3
   },
   "file_extension": ".py",
   "mimetype": "text/x-python",
   "name": "python",
   "nbconvert_exporter": "python",
   "pygments_lexer": "ipython3",
   "version": "3.12.5"
  }
 },
 "nbformat": 4,
 "nbformat_minor": 2
}
