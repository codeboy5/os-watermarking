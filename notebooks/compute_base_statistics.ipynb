{
 "cells": [
  {
   "cell_type": "code",
   "execution_count": null,
   "id": "ae799ac6",
   "metadata": {},
   "outputs": [],
   "source": [
    "import os\n",
    "os.getcwd()\n",
    "import sys \n",
    "sys.path.append('/data/users/miroojin/saksham/watermark-adapters')"
   ]
  },
  {
   "cell_type": "code",
   "execution_count": null,
   "id": "2a3e3cb2",
   "metadata": {
    "execution": {
     "iopub.execute_input": "2025-03-26T01:48:42.280408Z",
     "iopub.status.busy": "2025-03-26T01:48:42.279861Z",
     "iopub.status.idle": "2025-03-26T01:48:47.379446Z",
     "shell.execute_reply": "2025-03-26T01:48:47.377851Z"
    },
    "papermill": {
     "duration": 5.11131,
     "end_time": "2025-03-26T01:48:47.383123",
     "exception": false,
     "start_time": "2025-03-26T01:48:42.271813",
     "status": "completed"
    },
    "tags": []
   },
   "outputs": [],
   "source": [
    "import json\n",
    "from src.utils import MbMark, MbClusterDetector, GaussMark\n",
    "from sklearn.metrics import roc_auc_score\n",
    "import os\n",
    "from transformers import AutoTokenizer, AutoModelForCausalLM\n",
    "import torch\n",
    "from datasets import load_dataset, load_from_disk\n",
    "from tqdm.notebook import tqdm\n",
    "import matplotlib.pyplot as plt\n",
    "import seaborn as sns\n",
    "import math\n",
    "import scipy.stats\n",
    "torch.manual_seed(42)\n",
    "import numpy as np\n",
    "from sklearn.metrics import roc_auc_score, roc_curve\n",
    "from scipy.interpolate import interp1d"
   ]
  },
  {
   "cell_type": "code",
   "execution_count": null,
   "id": "dade25f1",
   "metadata": {
    "execution": {
     "iopub.execute_input": "2025-03-26T01:48:47.396110Z",
     "iopub.status.busy": "2025-03-26T01:48:47.395694Z",
     "iopub.status.idle": "2025-03-26T01:48:47.402157Z",
     "shell.execute_reply": "2025-03-26T01:48:47.401069Z"
    },
    "papermill": {
     "duration": 0.015928,
     "end_time": "2025-03-26T01:48:47.405075",
     "exception": false,
     "start_time": "2025-03-26T01:48:47.389147",
     "status": "completed"
    },
    "tags": []
   },
   "outputs": [],
   "source": [
    "model_name = \"meta-llama/Llama-2-7b-hf\"\n",
    "model_suffix = model_name.split(\"/\")[-1]\n",
    "output_file = os.getenv(\"OUTPUT_FILE\", \"../output/test/output_delta1.5_gamma0.4.json\")\n",
    "\n",
    "assert output_file is not None, \"Please set the OUTPUT_FILE environment variable to the path of your output file.\"\n",
    "\n",
    "\n",
    "BATCH_SIZE = 64\n",
    "print(f\"Batch size: {BATCH_SIZE}\")\n",
    "print(f\"Model name: {model_name}\")\n"
   ]
  },
  {
   "cell_type": "code",
   "execution_count": null,
   "id": "163bec1d",
   "metadata": {},
   "outputs": [],
   "source": [
    "tokenizer = AutoTokenizer.from_pretrained(\n",
    "    model_name,\n",
    "    device_map=\"auto\")\n",
    "if tokenizer.pad_token is None:\n",
    "    tokenizer.pad_token = tokenizer.eos_token\n"
   ]
  },
  {
   "cell_type": "code",
   "execution_count": null,
   "id": "26d1cdf6",
   "metadata": {
    "execution": {
     "iopub.execute_input": "2025-03-26T01:48:47.436979Z",
     "iopub.status.busy": "2025-03-26T01:48:47.436411Z",
     "iopub.status.idle": "2025-03-26T01:48:47.459809Z",
     "shell.execute_reply": "2025-03-26T01:48:47.458294Z"
    },
    "papermill": {
     "duration": 0.042685,
     "end_time": "2025-03-26T01:48:47.463561",
     "exception": false,
     "start_time": "2025-03-26T01:48:47.420876",
     "status": "completed"
    },
    "tags": []
   },
   "outputs": [],
   "source": [
    "\n",
    "with open(output_file, \"r\") as f:\n",
    "    output_data = json.load(f)\n",
    "\n",
    "def filter_length(example):\n",
    "    return len(tokenizer(example[\"text\"])['input_ids']) >= 400"
   ]
  },
  {
   "cell_type": "code",
   "execution_count": null,
   "id": "8c487239",
   "metadata": {},
   "outputs": [],
   "source": [
    "dataset_name = \"Skylion007/openwebtext\"\n",
    "dataset_suffix = dataset_name.split(\"/\")[-1]\n",
    "dataset = load_dataset(dataset_name,\n",
    "                       split=\"train\", streaming=True, trust_remote_code=True)\n",
    "\n",
    "dataset = dataset.filter(filter_length)\n",
    "\n",
    "dataset = dataset.shuffle(seed=42).take(5000)\n",
    "\n",
    "# Truncate each sample to random lengths between 150 and 400\n",
    "\n",
    "\n",
    "def truncate(example):\n",
    "    input_ids = tokenizer(example[\"text\"])['input_ids']\n",
    "    length = np.random.randint(150, 400)\n",
    "    truncated_input_ids = input_ids[:length]\n",
    "    example[\"text\"] = tokenizer.decode(\n",
    "        truncated_input_ids, skip_special_tokens=True)\n",
    "    return example\n",
    "\n",
    "\n",
    "dataset = dataset.map(truncate)\n",
    "# Get text column as list\n",
    "texts = [example[\"text\"] for example in dataset]"
   ]
  },
  {
   "cell_type": "code",
   "execution_count": null,
   "id": "9869afa7",
   "metadata": {},
   "outputs": [],
   "source": [
    "\n",
    "model = AutoModelForCausalLM.from_pretrained(\n",
    "    model_name, device_map=\"auto\", torch_dtype=torch.bfloat16)\n",
    "\n",
    "watermark_type = output_data[\"watermark\"]\n",
    "config = output_data[\"config\"]\n",
    "\n",
    "\n",
    "final_weight = torch.tensor(output_data[\"final_matrix\"])\n",
    "\n",
    "watermark = MbMark(\n",
    "    delta=config[\"delta\"],\n",
    "    gamma=config[\"gamma\"],\n",
    "    seed=config[\"hash_key\"],\n",
    "    final_weight=final_weight,\n",
    "    model=model,\n",
    "    tokenizer=tokenizer,\n",
    "    unembedding_param_name=config[\"unembedding_param_name\"]\n",
    ")   "
   ]
  },
  {
   "cell_type": "code",
   "execution_count": null,
   "id": "189bbdfa",
   "metadata": {
    "execution": {
     "iopub.execute_input": "2025-03-26T01:48:54.919704Z",
     "iopub.status.busy": "2025-03-26T01:48:54.919106Z",
     "iopub.status.idle": "2025-03-26T01:48:54.937562Z",
     "shell.execute_reply": "2025-03-26T01:48:54.935786Z"
    },
    "papermill": {
     "duration": 0.029949,
     "end_time": "2025-03-26T01:48:54.941009",
     "exception": false,
     "start_time": "2025-03-26T01:48:54.911060",
     "status": "completed"
    },
    "tags": []
   },
   "outputs": [],
   "source": [
    "# Iterate through the dataset in batches\n",
    "\n",
    "\n",
    "def get_llrs(data):\n",
    "    all_likelihood_ratios = []\n",
    "\n",
    "    for i in range(0, len(data), BATCH_SIZE):\n",
    "        batch = data[i:i + BATCH_SIZE]\n",
    "        with torch.no_grad():\n",
    "            inputs = watermark.tokenizer(batch, padding=True,\n",
    "                                         return_tensors=\"pt\").to(watermark.cluster_detector.device)\n",
    "            _, hidden_states = watermark.cluster_detector(inputs)\n",
    "            likehood_ratios = watermark.lrt(hidden_states, inputs)\n",
    "            \n",
    "        all_likelihood_ratios.append(likehood_ratios)\n",
    "\n",
    "    all_likelihood_ratios = torch.cat(all_likelihood_ratios)\n",
    "    return all_likelihood_ratios\n",
    "\n",
    "\n",
    "null_likehood_ratios = get_llrs(texts)"
   ]
  },
  {
   "cell_type": "markdown",
   "id": "0c0e3a10",
   "metadata": {
    "papermill": {
     "duration": 0.004764,
     "end_time": "2025-03-26T01:48:54.951772",
     "exception": false,
     "start_time": "2025-03-26T01:48:54.947008",
     "status": "completed"
    },
    "tags": []
   },
   "source": [
    "#### Human text / negative sample scores"
   ]
  },
  {
   "cell_type": "code",
   "execution_count": null,
   "id": "d486b607",
   "metadata": {
    "execution": {
     "iopub.execute_input": "2025-03-26T01:48:54.962825Z",
     "iopub.status.busy": "2025-03-26T01:48:54.962260Z",
     "iopub.status.idle": "2025-03-26T01:49:25.395511Z",
     "shell.execute_reply": "2025-03-26T01:49:25.394565Z"
    },
    "papermill": {
     "duration": 30.452823,
     "end_time": "2025-03-26T01:49:25.409342",
     "exception": false,
     "start_time": "2025-03-26T01:48:54.956519",
     "status": "completed"
    },
    "tags": []
   },
   "outputs": [],
   "source": [
    "\n",
    "\n",
    "# Plot the histogram of the null likelihood ratios\n",
    "plt.figure(figsize=(10, 5))\n",
    "plt.hist(null_likehood_ratios, bins=200, density=True)\n",
    "plt.title(\"Null Likelihood Ratios\")\n",
    "plt.xlabel(\"Likelihood Ratio\")\n",
    "plt.ylabel(\"Density\")\n",
    "plt.grid()\n",
    "plt.show()\n"
   ]
  },
  {
   "cell_type": "code",
   "execution_count": null,
   "id": "d1881369",
   "metadata": {},
   "outputs": [],
   "source": [
    "base_llr_statistics = {\n",
    "    \"mean\": null_likehood_ratios.mean().item(),\n",
    "    \"std\": null_likehood_ratios.std().item(),\n",
    "}\n",
    "\n",
    "output_data[\"base_llr_statistics\"] = base_llr_statistics\n",
    "\n",
    "# Save the updated output data\n",
    "with open(output_file, \"w\") as f:\n",
    "    json.dump(output_data, f, indent=4)"
   ]
  }
 ],
 "metadata": {
  "kernelspec": {
   "display_name": "venv",
   "language": "python",
   "name": "python3"
  },
  "language_info": {
   "codemirror_mode": {
    "name": "ipython",
    "version": 3
   },
   "file_extension": ".py",
   "mimetype": "text/x-python",
   "name": "python",
   "nbconvert_exporter": "python",
   "pygments_lexer": "ipython3",
   "version": "3.12.5"
  },
  "papermill": {
   "default_parameters": {},
   "duration": 114.183881,
   "end_time": "2025-03-26T01:50:35.226986",
   "environment_variables": {},
   "exception": null,
   "input_path": "notebooks/test_watermarking.ipynb",
   "output_path": "output/tw4.2.ipynb",
   "parameters": {},
   "start_time": "2025-03-26T01:48:41.043105",
   "version": "2.6.0"
  },
  "widgets": {
   "application/vnd.jupyter.widget-state+json": {
    "state": {
     "14ef48eb32e8433bb641ce507f081e57": {
      "model_module": "@jupyter-widgets/controls",
      "model_module_version": "2.0.0",
      "model_name": "HTMLStyleModel",
      "state": {
       "_model_module": "@jupyter-widgets/controls",
       "_model_module_version": "2.0.0",
       "_model_name": "HTMLStyleModel",
       "_view_count": null,
       "_view_module": "@jupyter-widgets/base",
       "_view_module_version": "2.0.0",
       "_view_name": "StyleView",
       "background": null,
       "description_width": "",
       "font_size": null,
       "text_color": null
      }
     },
     "3804a8a38f7649cda6987326e9709b76": {
      "model_module": "@jupyter-widgets/base",
      "model_module_version": "2.0.0",
      "model_name": "LayoutModel",
      "state": {
       "_model_module": "@jupyter-widgets/base",
       "_model_module_version": "2.0.0",
       "_model_name": "LayoutModel",
       "_view_count": null,
       "_view_module": "@jupyter-widgets/base",
       "_view_module_version": "2.0.0",
       "_view_name": "LayoutView",
       "align_content": null,
       "align_items": null,
       "align_self": null,
       "border_bottom": null,
       "border_left": null,
       "border_right": null,
       "border_top": null,
       "bottom": null,
       "display": null,
       "flex": null,
       "flex_flow": null,
       "grid_area": null,
       "grid_auto_columns": null,
       "grid_auto_flow": null,
       "grid_auto_rows": null,
       "grid_column": null,
       "grid_gap": null,
       "grid_row": null,
       "grid_template_areas": null,
       "grid_template_columns": null,
       "grid_template_rows": null,
       "height": null,
       "justify_content": null,
       "justify_items": null,
       "left": null,
       "margin": null,
       "max_height": null,
       "max_width": null,
       "min_height": null,
       "min_width": null,
       "object_fit": null,
       "object_position": null,
       "order": null,
       "overflow": null,
       "padding": null,
       "right": null,
       "top": null,
       "visibility": null,
       "width": null
      }
     },
     "3aa09cae566b4ffcaf0795fae0d1c44c": {
      "model_module": "@jupyter-widgets/controls",
      "model_module_version": "2.0.0",
      "model_name": "HTMLModel",
      "state": {
       "_dom_classes": [],
       "_model_module": "@jupyter-widgets/controls",
       "_model_module_version": "2.0.0",
       "_model_name": "HTMLModel",
       "_view_count": null,
       "_view_module": "@jupyter-widgets/controls",
       "_view_module_version": "2.0.0",
       "_view_name": "HTMLView",
       "description": "",
       "description_allow_html": false,
       "layout": "IPY_MODEL_3804a8a38f7649cda6987326e9709b76",
       "placeholder": "​",
       "style": "IPY_MODEL_6f20be7badab4126bab81c8f050883ed",
       "tabbable": null,
       "tooltip": null,
       "value": " 2/2 [00:04&lt;00:00,  2.25s/it]"
      }
     },
     "3b3584bb6bd5438b95e95058566ce7d8": {
      "model_module": "@jupyter-widgets/base",
      "model_module_version": "2.0.0",
      "model_name": "LayoutModel",
      "state": {
       "_model_module": "@jupyter-widgets/base",
       "_model_module_version": "2.0.0",
       "_model_name": "LayoutModel",
       "_view_count": null,
       "_view_module": "@jupyter-widgets/base",
       "_view_module_version": "2.0.0",
       "_view_name": "LayoutView",
       "align_content": null,
       "align_items": null,
       "align_self": null,
       "border_bottom": null,
       "border_left": null,
       "border_right": null,
       "border_top": null,
       "bottom": null,
       "display": null,
       "flex": null,
       "flex_flow": null,
       "grid_area": null,
       "grid_auto_columns": null,
       "grid_auto_flow": null,
       "grid_auto_rows": null,
       "grid_column": null,
       "grid_gap": null,
       "grid_row": null,
       "grid_template_areas": null,
       "grid_template_columns": null,
       "grid_template_rows": null,
       "height": null,
       "justify_content": null,
       "justify_items": null,
       "left": null,
       "margin": null,
       "max_height": null,
       "max_width": null,
       "min_height": null,
       "min_width": null,
       "object_fit": null,
       "object_position": null,
       "order": null,
       "overflow": null,
       "padding": null,
       "right": null,
       "top": null,
       "visibility": null,
       "width": null
      }
     },
     "414719c467aa4bcdab4390a2194c0ab9": {
      "model_module": "@jupyter-widgets/controls",
      "model_module_version": "2.0.0",
      "model_name": "ProgressStyleModel",
      "state": {
       "_model_module": "@jupyter-widgets/controls",
       "_model_module_version": "2.0.0",
       "_model_name": "ProgressStyleModel",
       "_view_count": null,
       "_view_module": "@jupyter-widgets/base",
       "_view_module_version": "2.0.0",
       "_view_name": "StyleView",
       "bar_color": null,
       "description_width": ""
      }
     },
     "6f20be7badab4126bab81c8f050883ed": {
      "model_module": "@jupyter-widgets/controls",
      "model_module_version": "2.0.0",
      "model_name": "HTMLStyleModel",
      "state": {
       "_model_module": "@jupyter-widgets/controls",
       "_model_module_version": "2.0.0",
       "_model_name": "HTMLStyleModel",
       "_view_count": null,
       "_view_module": "@jupyter-widgets/base",
       "_view_module_version": "2.0.0",
       "_view_name": "StyleView",
       "background": null,
       "description_width": "",
       "font_size": null,
       "text_color": null
      }
     },
     "72f9c2aae83b47a898ae49ed0abbf5c3": {
      "model_module": "@jupyter-widgets/base",
      "model_module_version": "2.0.0",
      "model_name": "LayoutModel",
      "state": {
       "_model_module": "@jupyter-widgets/base",
       "_model_module_version": "2.0.0",
       "_model_name": "LayoutModel",
       "_view_count": null,
       "_view_module": "@jupyter-widgets/base",
       "_view_module_version": "2.0.0",
       "_view_name": "LayoutView",
       "align_content": null,
       "align_items": null,
       "align_self": null,
       "border_bottom": null,
       "border_left": null,
       "border_right": null,
       "border_top": null,
       "bottom": null,
       "display": null,
       "flex": null,
       "flex_flow": null,
       "grid_area": null,
       "grid_auto_columns": null,
       "grid_auto_flow": null,
       "grid_auto_rows": null,
       "grid_column": null,
       "grid_gap": null,
       "grid_row": null,
       "grid_template_areas": null,
       "grid_template_columns": null,
       "grid_template_rows": null,
       "height": null,
       "justify_content": null,
       "justify_items": null,
       "left": null,
       "margin": null,
       "max_height": null,
       "max_width": null,
       "min_height": null,
       "min_width": null,
       "object_fit": null,
       "object_position": null,
       "order": null,
       "overflow": null,
       "padding": null,
       "right": null,
       "top": null,
       "visibility": null,
       "width": null
      }
     },
     "7dc7cc51ea374e88aaabab1e5109e701": {
      "model_module": "@jupyter-widgets/controls",
      "model_module_version": "2.0.0",
      "model_name": "FloatProgressModel",
      "state": {
       "_dom_classes": [],
       "_model_module": "@jupyter-widgets/controls",
       "_model_module_version": "2.0.0",
       "_model_name": "FloatProgressModel",
       "_view_count": null,
       "_view_module": "@jupyter-widgets/controls",
       "_view_module_version": "2.0.0",
       "_view_name": "ProgressView",
       "bar_style": "success",
       "description": "",
       "description_allow_html": false,
       "layout": "IPY_MODEL_8f18a4b2d00b47b6806f269e0f2a2337",
       "max": 2,
       "min": 0,
       "orientation": "horizontal",
       "style": "IPY_MODEL_414719c467aa4bcdab4390a2194c0ab9",
       "tabbable": null,
       "tooltip": null,
       "value": 2
      }
     },
     "8f18a4b2d00b47b6806f269e0f2a2337": {
      "model_module": "@jupyter-widgets/base",
      "model_module_version": "2.0.0",
      "model_name": "LayoutModel",
      "state": {
       "_model_module": "@jupyter-widgets/base",
       "_model_module_version": "2.0.0",
       "_model_name": "LayoutModel",
       "_view_count": null,
       "_view_module": "@jupyter-widgets/base",
       "_view_module_version": "2.0.0",
       "_view_name": "LayoutView",
       "align_content": null,
       "align_items": null,
       "align_self": null,
       "border_bottom": null,
       "border_left": null,
       "border_right": null,
       "border_top": null,
       "bottom": null,
       "display": null,
       "flex": null,
       "flex_flow": null,
       "grid_area": null,
       "grid_auto_columns": null,
       "grid_auto_flow": null,
       "grid_auto_rows": null,
       "grid_column": null,
       "grid_gap": null,
       "grid_row": null,
       "grid_template_areas": null,
       "grid_template_columns": null,
       "grid_template_rows": null,
       "height": null,
       "justify_content": null,
       "justify_items": null,
       "left": null,
       "margin": null,
       "max_height": null,
       "max_width": null,
       "min_height": null,
       "min_width": null,
       "object_fit": null,
       "object_position": null,
       "order": null,
       "overflow": null,
       "padding": null,
       "right": null,
       "top": null,
       "visibility": null,
       "width": null
      }
     },
     "cc8c8afb087649d88179c86a65afe0b3": {
      "model_module": "@jupyter-widgets/controls",
      "model_module_version": "2.0.0",
      "model_name": "HBoxModel",
      "state": {
       "_dom_classes": [],
       "_model_module": "@jupyter-widgets/controls",
       "_model_module_version": "2.0.0",
       "_model_name": "HBoxModel",
       "_view_count": null,
       "_view_module": "@jupyter-widgets/controls",
       "_view_module_version": "2.0.0",
       "_view_name": "HBoxView",
       "box_style": "",
       "children": [
        "IPY_MODEL_e2c99714b6584679b9ee7e72b02f9de4",
        "IPY_MODEL_7dc7cc51ea374e88aaabab1e5109e701",
        "IPY_MODEL_3aa09cae566b4ffcaf0795fae0d1c44c"
       ],
       "layout": "IPY_MODEL_72f9c2aae83b47a898ae49ed0abbf5c3",
       "tabbable": null,
       "tooltip": null
      }
     },
     "e2c99714b6584679b9ee7e72b02f9de4": {
      "model_module": "@jupyter-widgets/controls",
      "model_module_version": "2.0.0",
      "model_name": "HTMLModel",
      "state": {
       "_dom_classes": [],
       "_model_module": "@jupyter-widgets/controls",
       "_model_module_version": "2.0.0",
       "_model_name": "HTMLModel",
       "_view_count": null,
       "_view_module": "@jupyter-widgets/controls",
       "_view_module_version": "2.0.0",
       "_view_name": "HTMLView",
       "description": "",
       "description_allow_html": false,
       "layout": "IPY_MODEL_3b3584bb6bd5438b95e95058566ce7d8",
       "placeholder": "​",
       "style": "IPY_MODEL_14ef48eb32e8433bb641ce507f081e57",
       "tabbable": null,
       "tooltip": null,
       "value": "Loading checkpoint shards: 100%"
      }
     }
    },
    "version_major": 2,
    "version_minor": 0
   }
  }
 },
 "nbformat": 4,
 "nbformat_minor": 5
}
