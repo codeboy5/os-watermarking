{
 "cells": [
  {
   "cell_type": "code",
   "execution_count": null,
   "metadata": {},
   "outputs": [],
   "source": [
    "import os\n",
    "from datasets import Dataset\n",
    "import seaborn as sns\n",
    "import matplotlib.pyplot as plt\n",
    "from tqdm.notebook import tqdm\n",
    "from datasets import load_dataset\n",
    "import torch\n",
    "from transformers import AutoTokenizer, AutoModelForCausalLM\n",
    "from torch.utils.data import TensorDataset, DataLoader\n",
    "\n",
    "torch.manual_seed(42)\n",
    "import json\n",
    "import einops\n",
    "import pickle"
   ]
  },
  {
   "cell_type": "code",
   "execution_count": 2,
   "metadata": {},
   "outputs": [],
   "source": [
    "model_name = \"meta-llama/Llama-2-7b-hf\"\n",
    "model_suffix = model_name.split(\"/\")[-1]\n",
    "os.environ[\"CUDA_VISIBLE_DEVICES\"] = \"0\"\n"
   ]
  },
  {
   "cell_type": "code",
   "execution_count": 3,
   "metadata": {},
   "outputs": [
    {
     "data": {
      "application/vnd.jupyter.widget-view+json": {
       "model_id": "fcecda1933f24cb396dd26fa08e601d5",
       "version_major": 2,
       "version_minor": 0
      },
      "text/plain": [
       "Loading checkpoint shards:   0%|          | 0/2 [00:00<?, ?it/s]"
      ]
     },
     "metadata": {},
     "output_type": "display_data"
    }
   ],
   "source": [
    "tokenizer = AutoTokenizer.from_pretrained(\n",
    "    model_name,\n",
    "    device_map=\"auto\")\n",
    "if tokenizer.pad_token is None:\n",
    "    tokenizer.pad_token = tokenizer.eos_token\n",
    "\n",
    "model = AutoModelForCausalLM.from_pretrained(model_name,\n",
    "                                             device_map=\"auto\", torch_dtype=torch.bfloat16)\n",
    "model.eval()\n",
    "device = model.device\n",
    "\n",
    "model.lm_head = torch.nn.Identity()\n"
   ]
  },
  {
   "cell_type": "code",
   "execution_count": null,
   "metadata": {},
   "outputs": [],
   "source": [
    "TOTAL_BATCHES = 100\n",
    "batch_size = 32\n",
    "final_matrix_path = os.getenv(\"FINAL_MATRIX_PATH\", None)\n",
    "final_matrix_path = \"../output/test/final_matrix.pt\"\n",
    "final_weight = torch.load(final_matrix_path).cpu()\n",
    "\n"
   ]
  },
  {
   "cell_type": "code",
   "execution_count": 14,
   "metadata": {},
   "outputs": [],
   "source": [
    "def filter_length(example):\n",
    "    return len(tokenizer(example[\"text\"])['input_ids']) >= 256"
   ]
  },
  {
   "cell_type": "code",
   "execution_count": 15,
   "metadata": {},
   "outputs": [
    {
     "data": {
      "application/vnd.jupyter.widget-view+json": {
       "model_id": "b239f3fde9b447f0bf31f538dd9008a8",
       "version_major": 2,
       "version_minor": 0
      },
      "text/plain": [
       "Resolving data files:   0%|          | 0/1024 [00:00<?, ?it/s]"
      ]
     },
     "metadata": {},
     "output_type": "display_data"
    },
    {
     "data": {
      "application/vnd.jupyter.widget-view+json": {
       "model_id": "356fcf589dcc42c19668f79459307053",
       "version_major": 2,
       "version_minor": 0
      },
      "text/plain": [
       "Resolving data files:   0%|          | 0/512 [00:00<?, ?it/s]"
      ]
     },
     "metadata": {},
     "output_type": "display_data"
    }
   ],
   "source": [
    "dataset = load_dataset(\"allenai/c4\", \"realnewslike\", split=\"validation\")\n",
    "dataset = dataset.filter(filter_length)\n",
    "dataset = dataset.shuffle(seed=42)\n",
    "dataloader = torch.utils.data.DataLoader(dataset, batch_size=batch_size)"
   ]
  },
  {
   "cell_type": "code",
   "execution_count": 34,
   "metadata": {},
   "outputs": [],
   "source": [
    "output_path = \"../output/k4_v1/output_delta1.7_gamma0.25.json\"\n",
    "import json\n",
    "# Open the file as JSON\n",
    "with open(output_path, 'r') as f:\n",
    "    data = json.load(f)\n",
    "\n",
    "samples = data[\"samples\"][\"full_model_text\"]\n"
   ]
  },
  {
   "cell_type": "code",
   "execution_count": 35,
   "metadata": {},
   "outputs": [],
   "source": [
    "final_weight = final_weight.to(device)"
   ]
  },
  {
   "cell_type": "code",
   "execution_count": 36,
   "metadata": {},
   "outputs": [
    {
     "data": {
      "application/vnd.jupyter.widget-view+json": {
       "model_id": "54731c9b3578417ea9dede39265652f7",
       "version_major": 2,
       "version_minor": 0
      },
      "text/plain": [
       "  0%|          | 0/100 [00:00<?, ?it/s]"
      ]
     },
     "metadata": {},
     "output_type": "display_data"
    }
   ],
   "source": [
    "pbar = tqdm(total=TOTAL_BATCHES)\n",
    "all_one_hots = []\n",
    "for i in range(0, len(samples), batch_size):\n",
    "    batch = samples[i:i + batch_size]\n",
    "    with torch.no_grad():\n",
    "        text = batch\n",
    "        input_ids = tokenizer(text, padding=True, return_tensors=\"pt\")[\"input_ids\"]\n",
    "        input_ids = input_ids.to(device)\n",
    "        output = model(input_ids).logits[:, 1:]\n",
    "        hidden_states = einops.rearrange(\n",
    "            output, \"batch pos hdim -> (batch pos) hdim\")\n",
    "\n",
    "        hidden_states = hidden_states.float()\n",
    "        one_hots = hidden_states @ final_weight.T       \n",
    "        all_one_hots.append(one_hots)\n",
    "        del hidden_states, output, input_ids\n",
    "        pbar.update(1)\n",
    "        if pbar.n >= TOTAL_BATCHES:\n",
    "            break\n",
    "        torch.cuda.empty_cache()\n",
    "\n",
    "pbar.close()\n",
    "all_one_hots = torch.cat(all_one_hots, dim=0)"
   ]
  },
  {
   "cell_type": "code",
   "execution_count": 37,
   "metadata": {},
   "outputs": [
    {
     "data": {
      "image/png": "[encoded data removed]",
      "text/plain": [
       "<Figure size 1000x600 with 1 Axes>"
      ]
     },
     "metadata": {},
     "output_type": "display_data"
    }
   ],
   "source": [
    "# Plot histogram\n",
    "plt.figure(figsize=(10, 6))\n",
    "plt.hist(all_one_hots.flatten().cpu(), bins=100, color='blue', alpha=0.7)\n",
    "plt.title('Histogram of One-Hot Encoded Values')\n",
    "plt.xlabel('Value')\n",
    "plt.ylabel('Frequency')\n",
    "plt.grid(axis='y', alpha=0.75)\n",
    "plt.show()\n"
   ]
  }
 ],
 "metadata": {
  "kernelspec": {
   "display_name": "venv",
   "language": "python",
   "name": "python3"
  },
  "language_info": {
   "codemirror_mode": {
    "name": "ipython",
    "version": 3
   },
   "file_extension": ".py",
   "mimetype": "text/x-python",
   "name": "python",
   "nbconvert_exporter": "python",
   "pygments_lexer": "ipython3",
   "version": "3.12.5"
  }
 },
 "nbformat": 4,
 "nbformat_minor": 2
}
