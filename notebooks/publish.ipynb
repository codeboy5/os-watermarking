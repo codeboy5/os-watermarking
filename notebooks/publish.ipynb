{
 "cells": [
  {
   "cell_type": "code",
   "execution_count": 1,
   "id": "db6d63b6",
   "metadata": {},
   "outputs": [],
   "source": [
    "import os\n",
    "os.getcwd()\n",
    "import sys \n",
    "sys.path.append('/data/users/miroojin/saksham/watermark-adapters')\n",
    "os.environ[\"CUDA_VISIBLE_DEVICES\"] = \"0,1,2\""
   ]
  },
  {
   "cell_type": "code",
   "execution_count": 2,
   "id": "357815fc",
   "metadata": {},
   "outputs": [],
   "source": [
    "import json\n",
    "from src.mbmark import MbMark, MbMark2, Mode\n",
    "from src.gaussmark import GaussMark\n",
    "from sklearn.metrics import roc_auc_score\n",
    "import os\n",
    "from transformers import AutoTokenizer, AutoModelForCausalLM\n",
    "import torch\n",
    "from datasets import load_dataset, load_from_disk\n",
    "from tqdm.notebook import tqdm\n",
    "import matplotlib.pyplot as plt\n",
    "import seaborn as sns\n",
    "import math\n",
    "import scipy.stats\n",
    "torch.manual_seed(42)\n",
    "import numpy as np\n",
    "from sklearn.metrics import roc_auc_score, roc_curve\n",
    "from scipy.interpolate import interp1d\n"
   ]
  },
  {
   "cell_type": "code",
   "execution_count": 3,
   "id": "de031600",
   "metadata": {},
   "outputs": [
    {
     "name": "stdout",
     "output_type": "stream",
     "text": [
      "Batch size: 64\n",
      "Model name: mistralai/Mistral-7B-v0.3\n"
     ]
    }
   ],
   "source": [
    "model_name = os.getenv(\"MODEL\", \"mistralai/Mistral-7B-v0.3\")\n",
    "model_suffix = model_name.split(\"/\")[-1]\n",
    "output_file = os.getenv(\"OUTPUT_FILE\", \"../output/Mistral-7B-v0.3/output_align=0_delta=1.2_gamma=0.3_k=4_seed=12997009_watermark=mb_dataset=arxiv.json\")\n",
    "\n",
    "assert output_file is not None, \"Please set the OUTPUT_FILE environment variable to the path of your output file.\"\n",
    "\n",
    "\n",
    "BATCH_SIZE = 64\n",
    "print(f\"Batch size: {BATCH_SIZE}\")\n",
    "print(f\"Model name: {model_name}\")\n"
   ]
  },
  {
   "cell_type": "code",
   "execution_count": 4,
   "id": "f7acffef",
   "metadata": {},
   "outputs": [
    {
     "data": {
      "application/vnd.jupyter.widget-view+json": {
       "model_id": "977b0f0ff3bc429296b24495405f35f9",
       "version_major": 2,
       "version_minor": 0
      },
      "text/plain": [
       "Loading checkpoint shards:   0%|          | 0/3 [00:00<?, ?it/s]"
      ]
     },
     "metadata": {},
     "output_type": "display_data"
    }
   ],
   "source": [
    "tokenizer = AutoTokenizer.from_pretrained(\n",
    "    model_name,\n",
    "    device_map=\"auto\")\n",
    "if tokenizer.pad_token is None:\n",
    "    tokenizer.pad_token = tokenizer.eos_token\n",
    "\n",
    "model = AutoModelForCausalLM.from_pretrained(\n",
    "    model_name, device_map=\"auto\", torch_dtype=torch.bfloat16)\n",
    "\n",
    "with open(output_file, \"r\") as f:\n",
    "    output_data = json.load(f)\n",
    "\n",
    "watermark_type = output_data[\"watermark\"]\n",
    "config = output_data[\"config\"]\n",
    "\n",
    "if watermark_type == \"gaussmark\":\n",
    "    watermark = GaussMark(sigma=config[\"sigma\"],\n",
    "                          tokenizer=tokenizer, model=model, seed=config[\"hash_key\"], target_param_name=config[\"target_param_name\"])\n",
    "    BATCH_SIZE = 8\n",
    "elif watermark_type == \"mb\":\n",
    "    final_weight = torch.tensor(output_data[\"final_matrix\"])\n",
    "    watermark = MbMark.from_params(\n",
    "        delta=config[\"delta\"],\n",
    "        gamma=config[\"gamma\"],\n",
    "        seed=config[\"hash_key\"],\n",
    "        final_weight=final_weight,\n",
    "        model=model,\n",
    "        tokenizer=tokenizer,\n",
    "        unembedding_param_name=config[\"unembedding_param_name\"],\n",
    "        mode=Mode.Generate,\n",
    "    )\n",
    "elif watermark_type == \"mb2\":\n",
    "    watermark = MbMark2.from_seed(\n",
    "        seed=config[\"hash_key\"],\n",
    "        model=model,\n",
    "        tokenizer=tokenizer,\n",
    "        unembedding_param_name=config[\"unembedding_param_name\"],\n",
    "        mode=Mode.Generate\n",
    "    )"
   ]
  },
  {
   "cell_type": "code",
   "execution_count": 5,
   "id": "78f22ca3",
   "metadata": {},
   "outputs": [
    {
     "name": "stdout",
     "output_type": "stream",
     "text": [
      "Watermarked model saved to /pool.ssd/assets/models/mistralai/Mistral-7B-v0.3-watermarked-mb-seed12997009\n"
     ]
    }
   ],
   "source": [
    "watermarked_model = watermark.model\n",
    "\n",
    "watermarked_model_name = f\"{model_name}-watermarked-{watermark_type}-seed{config['hash_key']}\"\n",
    "\n",
    "\n",
    "# Save the model to /pool.ssd/assets/models/\n",
    "watermarked_model_name = os.path.join(\n",
    "    \"/pool.ssd/assets/models/\", watermarked_model_name)\n",
    "if not os.path.exists(watermarked_model_name):\n",
    "    os.makedirs(watermarked_model_name)\n",
    "# Save the model to the specified directory\n",
    "watermarked_model.save_pretrained(watermarked_model_name)\n",
    "tokenizer.save_pretrained(watermarked_model_name)\n",
    "print(f\"Watermarked model saved to {watermarked_model_name}\")"
   ]
  }
 ],
 "metadata": {
  "kernelspec": {
   "display_name": "venv",
   "language": "python",
   "name": "python3"
  },
  "language_info": {
   "codemirror_mode": {
    "name": "ipython",
    "version": 3
   },
   "file_extension": ".py",
   "mimetype": "text/x-python",
   "name": "python",
   "nbconvert_exporter": "python",
   "pygments_lexer": "ipython3",
   "version": "3.12.5"
  }
 },
 "nbformat": 4,
 "nbformat_minor": 5
}
