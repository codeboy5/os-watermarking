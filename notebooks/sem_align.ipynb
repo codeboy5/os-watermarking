{
 "cells": [
  {
   "cell_type": "code",
   "execution_count": 2,
   "metadata": {},
   "outputs": [
    {
     "data": {
      "text/plain": [
       "<torch._C.Generator at 0x7d2c8cd1c730>"
      ]
     },
     "execution_count": 2,
     "metadata": {},
     "output_type": "execute_result"
    }
   ],
   "source": [
    "import numpy as np\n",
    "from scipy.linalg import eigh\n",
    "from sklearn.discriminant_analysis import LinearDiscriminantAnalysis\n",
    "from sklearn.metrics import silhouette_score\n",
    "from sklearn.model_selection import StratifiedShuffleSplit\n",
    "import matplotlib.pyplot as plt\n",
    "from torch.utils.data import TensorDataset, DataLoader, random_split\n",
    "from tqdm.notebook import tqdm, trange\n",
    "import torch.nn.functional as F\n",
    "import torch.nn as nn\n",
    "import torch\n",
    "\n",
    "import os\n",
    "\n",
    "from transformers import AutoTokenizer, AutoModelForCausalLM\n",
    "from mteb import MTEB\n",
    "\n",
    "torch.manual_seed(42)"
   ]
  },
  {
   "cell_type": "code",
   "execution_count": null,
   "metadata": {},
   "outputs": [],
   "source": [
    "ROOT_DIR = os.getenv(\"ROOT_DIR\", \".\")\n",
    "model_name = os.getenv(\"MODEL\", \"meta-llama/Llama-2-7b-hf\")\n"
   ]
  },
  {
   "cell_type": "code",
   "execution_count": null,
   "metadata": {},
   "outputs": [
    {
     "name": "stderr",
     "output_type": "stream",
     "text": [
      "/tmp/ipykernel_2502248/1521582407.py:8: FutureWarning: You are using `torch.load` with `weights_only=False` (the current default value), which uses the default pickle module implicitly. It is possible to construct malicious pickle data which will execute arbitrary code during unpickling (See https://github.com/pytorch/pytorch/blob/main/SECURITY.md#untrusted-models for more details). In a future release, the default value for `weights_only` will be flipped to `True`. This limits the functions that could be executed during unpickling. Arbitrary objects will no longer be allowed to be loaded via this mode unless they are explicitly allowlisted by the user via `torch.serialization.add_safe_globals`. We recommend you start setting `weights_only=True` for any use case where you don't have full control of the loaded file. Please open an issue on GitHub for any issues related to this experimental feature.\n",
      "  hidden_states = torch.load(f\"{data_dir}/hidden_states.pt\")\n",
      "/tmp/ipykernel_2502248/1521582407.py:9: FutureWarning: You are using `torch.load` with `weights_only=False` (the current default value), which uses the default pickle module implicitly. It is possible to construct malicious pickle data which will execute arbitrary code during unpickling (See https://github.com/pytorch/pytorch/blob/main/SECURITY.md#untrusted-models for more details). In a future release, the default value for `weights_only` will be flipped to `True`. This limits the functions that could be executed during unpickling. Arbitrary objects will no longer be allowed to be loaded via this mode unless they are explicitly allowlisted by the user via `torch.serialization.add_safe_globals`. We recommend you start setting `weights_only=True` for any use case where you don't have full control of the loaded file. Please open an issue on GitHub for any issues related to this experimental feature.\n",
      "  embeddings = torch.load(f\"{data_dir}/embeddings_all-mpnet-base-v2.pt\")\n"
     ]
    }
   ],
   "source": [
    "dataset_name = \"Skylion007/openwebtext\"\n",
    "model_suffix = model_name.split(\"/\")[-1]\n",
    "dataset_suffix = dataset_name.split(\"/\")[-1]\n",
    "data_dir = f\"{ROOT_DIR}/data/{dataset_suffix}_{model_suffix}\"\n",
    "model_output_dir = f\"{ROOT_DIR}/saved_models/{dataset_suffix}_{model_suffix}\"\n",
    "hidden_states = torch.load(f\"{data_dir}/hidden_states.pt\")\n",
    "embeddings = torch.load(f\"{data_dir}/embeddings_all-mpnet-base-v2.pt\")\n",
    "embeddings = embeddings[:hidden_states.shape[0]]\n",
    "\n",
    "embeddings = embeddings.float()\n",
    "hidden_states = hidden_states.float()\n",
    "sem_eval = False"
   ]
  },
  {
   "cell_type": "code",
   "execution_count": 5,
   "metadata": {},
   "outputs": [],
   "source": [
    "def ridge_regression(X, Y, alpha):\n",
    "    # l2 normalization\n",
    "    Y = F.normalize(Y, dim=1)\n",
    "    d_in = X.shape[1]\n",
    "    I = torch.eye(d_in, device=X.device)\n",
    "    W = torch.linalg.solve(X.T @ X + alpha * I, X.T @ Y)\n",
    "    return W"
   ]
  },
  {
   "cell_type": "code",
   "execution_count": 6,
   "metadata": {},
   "outputs": [],
   "source": [
    "device = torch.device(\"cuda\" if torch.cuda.is_available() else \"cpu\")\n",
    "\n",
    "class LinearProjector(nn.Module):\n",
    "    def __init__(self, input_dim, output_dim):\n",
    "        super().__init__()\n",
    "        self.proj = nn.Linear(input_dim, output_dim,\n",
    "                              bias=False)\n",
    "\n",
    "    def forward(self, x):\n",
    "        return self.proj(x)\n",
    "    \n",
    "def similarity_matrix(x):\n",
    "    x = F.normalize(x, dim=-1)\n",
    "    sim = x @ x.T  # Cosine similarity\n",
    "    # Exclude self-similarity by setting diagonal to -inf\n",
    "    mask = torch.eye(sim.size(0), device=sim.device, dtype=torch.bool)\n",
    "    sim = sim.masked_fill(mask, -1e9)  # Exclude self-similarity\n",
    "    return sim\n",
    "\n",
    "\n",
    "def distillation_loss(projected, target, temperature=0.07):\n",
    "    sim_proj = similarity_matrix(projected) / temperature\n",
    "    sim_tgt = similarity_matrix(target) / temperature\n",
    "\n",
    "    p = F.log_softmax(sim_proj, dim=-1)\n",
    "    q = F.softmax(sim_tgt, dim=-1)\n",
    "    return F.kl_div(p, q, reduction='batchmean')\n",
    "\n",
    "def train_model(loss_fn, output_dim, num_epochs=10, lr=1e-3, batch_size=512, temperature=0.07):\n",
    "    model = LinearProjector(hidden_states.shape[1], output_dim).to(device)\n",
    "    optimizer = torch.optim.AdamW(model.parameters(), lr=lr)\n",
    "\n",
    "    dataset = torch.utils.data.TensorDataset(hidden_states, embeddings)\n",
    "    # Split dataset into train and test sets\n",
    "    train_size = int(0.8 * len(dataset))\n",
    "    test_size = len(dataset) - train_size\n",
    "    train_dataset, val_dataset = random_split(dataset, [train_size, test_size])\n",
    "    # Create DataLoader for the training set\n",
    "    train_dataloader = torch.utils.data.DataLoader(\n",
    "        train_dataset, batch_size=batch_size, shuffle=True)\n",
    "    # Create DataLoader for the test set\n",
    "    val_dataloader = torch.utils.data.DataLoader(\n",
    "        val_dataset, batch_size=batch_size, shuffle=False)\n",
    "\n",
    "    train_losses = []\n",
    "    val_losses = []\n",
    "    for epoch in range(num_epochs):\n",
    "        total_loss = 0\n",
    "        model.train()\n",
    "        for x, y in train_dataloader:\n",
    "            x, y = x.to(device), y.to(device)\n",
    "            x_proj = model(x)\n",
    "\n",
    "\n",
    "            loss = loss_fn(x_proj, y, temperature=temperature)\n",
    "            optimizer.zero_grad()\n",
    "            loss.backward()\n",
    "            optimizer.step()\n",
    "\n",
    "            total_loss += loss.item()\n",
    "\n",
    "        avg_loss = total_loss / len(train_dataloader)\n",
    "        train_losses.append(avg_loss)\n",
    "        model.eval()\n",
    "        val_loss = 0\n",
    "        with torch.no_grad():\n",
    "            for x, y in val_dataloader:\n",
    "                x, y = x.to(device), y.to(device)\n",
    "                x_proj = model(x)\n",
    "\n",
    "                loss = loss_fn(x_proj, y, temperature=temperature)\n",
    "                val_loss += loss.item()\n",
    "\n",
    "        avg_val_loss = val_loss / len(val_dataloader)\n",
    "        print(\n",
    "            f\"Epoch {epoch+1}: Train Loss = {avg_loss:.4f}, Val Loss = {avg_val_loss:.4f}\")\n",
    "        val_losses.append(avg_val_loss)\n",
    "\n",
    "    # Plot the loss\n",
    "    plt.plot(range(num_epochs), train_losses)\n",
    "    plt.plot(range(num_epochs), val_losses)\n",
    "    plt.legend([\"Train Loss\", \"Validation Loss\"])\n",
    "    plt.xlabel(\"Epoch\")\n",
    "    plt.ylabel(\"Loss\")\n",
    "    plt.title(\"Training and Validation Loss\")\n",
    "    plt.show()\n",
    "\n",
    "    return model"
   ]
  },
  {
   "cell_type": "code",
   "execution_count": 7,
   "metadata": {},
   "outputs": [
    {
     "name": "stdout",
     "output_type": "stream",
     "text": [
      "\n",
      "Training with contrastive distillation loss and temperature: 0.07\n",
      "Epoch 1: Train Loss = 0.8776, Val Loss = 0.8353\n",
      "Epoch 2: Train Loss = 0.8246, Val Loss = 0.8222\n",
      "Epoch 3: Train Loss = 0.8125, Val Loss = 0.8167\n",
      "Epoch 4: Train Loss = 0.8067, Val Loss = 0.8136\n",
      "Epoch 5: Train Loss = 0.8033, Val Loss = 0.8114\n",
      "Epoch 6: Train Loss = 0.7996, Val Loss = 0.8095\n",
      "Epoch 7: Train Loss = 0.7975, Val Loss = 0.8083\n",
      "Epoch 8: Train Loss = 0.7956, Val Loss = 0.8075\n",
      "Epoch 9: Train Loss = 0.7936, Val Loss = 0.8061\n",
      "Epoch 10: Train Loss = 0.7929, Val Loss = 0.8057\n",
      "Epoch 11: Train Loss = 0.7907, Val Loss = 0.8048\n",
      "Epoch 12: Train Loss = 0.7898, Val Loss = 0.8042\n",
      "Epoch 13: Train Loss = 0.7902, Val Loss = 0.8037\n",
      "Epoch 14: Train Loss = 0.7881, Val Loss = 0.8032\n",
      "Epoch 15: Train Loss = 0.7871, Val Loss = 0.8027\n"
     ]
    },
    {
     "data": {
      "image/png": "[encoded data removed]",
      "text/plain": [
       "<Figure size 640x480 with 1 Axes>"
      ]
     },
     "metadata": {},
     "output_type": "display_data"
    }
   ],
   "source": [
    "temperature = 0.07\n",
    "# For KL distillation\n",
    "print(\"\\nTraining with contrastive distillation loss and temperature:\", temperature)\n",
    "distillation_model = train_model(\n",
    "    distillation_loss, output_dim=embeddings.shape[1], num_epochs=15, lr=1e-4, batch_size=256, temperature=temperature)"
   ]
  },
  {
   "cell_type": "code",
   "execution_count": 8,
   "metadata": {},
   "outputs": [],
   "source": [
    "\n",
    "\n",
    "class LLaMAEmbeddingModel:\n",
    "    def __init__(self, model, tokenizer, normalize_embeddings=True, mean_pooling=True, batch_size=8, W_aug=torch.nn.Identity()):\n",
    "        self.model = model\n",
    "        self.tokenizer = tokenizer\n",
    "        self.model.eval()\n",
    "        self.model.lm_head = torch.nn.Identity()\n",
    "        self.normalize_embeddings = normalize_embeddings\n",
    "        self.mean_pooling = mean_pooling\n",
    "        self.batch_size = batch_size\n",
    "        self.W_aug = W_aug.cuda()\n",
    "\n",
    "    def encode(self, sentences, **kwargs):\n",
    "        all_embeddings = []\n",
    "        for i in range(0, len(sentences), self.batch_size):\n",
    "            batch = sentences[i:i+self.batch_size]\n",
    "            inputs = self.tokenizer(\n",
    "                batch, return_tensors='pt', padding=True, truncation=True).to(self.model.device)\n",
    "            with torch.no_grad():\n",
    "                outputs = self.model(**inputs).logits\n",
    "\n",
    "                outputs = outputs.float()\n",
    "\n",
    "                # Mean pooling\n",
    "                if self.mean_pooling:\n",
    "                    attention_mask = inputs['attention_mask']\n",
    "                    embeddings = outputs * attention_mask.unsqueeze(-1)\n",
    "                    embeddings = embeddings.sum(\n",
    "                        1) / attention_mask.sum(1).unsqueeze(-1)\n",
    "                else:\n",
    "                    # get last token embedding\n",
    "                    embeddings = outputs[:, -1, :]\n",
    "                    # Apply ridge regression projection\n",
    "                    embeddings = self.W_aug(embeddings)\n",
    "\n",
    "                if self.normalize_embeddings:\n",
    "                    embeddings = torch.nn.functional.normalize(\n",
    "                        embeddings, p=2, dim=1)\n",
    "                all_embeddings.append(embeddings.cpu().numpy())\n",
    "        return np.vstack(all_embeddings)"
   ]
  },
  {
   "cell_type": "code",
   "execution_count": 9,
   "metadata": {},
   "outputs": [
    {
     "name": "stderr",
     "output_type": "stream",
     "text": [
      "/home/miroojin/miniconda3/envs/venv/lib/python3.12/site-packages/mteb/evaluation/MTEB.py:121: UserWarning: Passing task names as strings is deprecated and will be removed in 2.0 release. Please use `tasks = mteb.get_tasks(tasks=[...])` method to get tasks instead.\n",
      "  warnings.warn(\n"
     ]
    }
   ],
   "source": [
    "sts_tasks = [\n",
    "    \"STSBenchmark\",   # Standard semantic similarity benchmark\n",
    "    \"SICK-R\",         # Semantic relatedness from the SICK dataset\n",
    "    \"STS12\",\n",
    "    \"STS13\",\n",
    "    \"STS14\",\n",
    "    \"STS15\",\n",
    "    \"STS16\",\n",
    "]\n",
    "\n",
    "evaluation = MTEB(tasks=sts_tasks)\n",
    "\n",
    "\n",
    "def eval(eval_model):\n",
    "    results = evaluation.run(eval_model, output_folder=None)\n",
    "    score = np.stack([result.scores['test'][0]['main_score']\n",
    "                     for result in results])\n",
    "    return score"
   ]
  },
  {
   "cell_type": "code",
   "execution_count": 10,
   "metadata": {},
   "outputs": [],
   "source": [
    "if sem_eval:\n",
    "    model_name = 'meta-llama/Llama-2-7b-hf'\n",
    "    model = AutoModelForCausalLM.from_pretrained(\n",
    "        model_name,  device_map=\"auto\", torch_dtype=torch.bfloat16)\n",
    "    tokenizer = AutoTokenizer.from_pretrained(model_name)\n",
    "    if tokenizer.pad_token is None:\n",
    "        tokenizer.pad_token = tokenizer.eos_token"
   ]
  },
  {
   "cell_type": "code",
   "execution_count": 11,
   "metadata": {},
   "outputs": [],
   "source": [
    "W_ridge_align = ridge_regression(hidden_states, embeddings, alpha=1e-3)\n",
    "\n",
    "W_ridge_model = torch.nn.Linear(\n",
    "    W_ridge_align.shape[0], W_ridge_align.shape[1], bias=False)\n",
    "W_ridge_model.weight.data = W_ridge_align.T\n",
    "if sem_eval:\n",
    "    eval_model = LLaMAEmbeddingModel(\n",
    "    model, tokenizer, normalize_embeddings=False, mean_pooling=False, W_aug=W_ridge_model)\n",
    "\n",
    "    print(eval(eval_model))"
   ]
  },
  {
   "cell_type": "code",
   "execution_count": 12,
   "metadata": {},
   "outputs": [],
   "source": [
    "if sem_eval:\n",
    "    eval_model = LLaMAEmbeddingModel(\n",
    "        model, tokenizer, normalize_embeddings=False, mean_pooling=False, W_aug=nn.Identity())\n",
    "    print(eval(eval_model))"
   ]
  },
  {
   "cell_type": "code",
   "execution_count": 13,
   "metadata": {},
   "outputs": [],
   "source": [
    "if sem_eval:\n",
    "    eval_model = LLaMAEmbeddingModel(\n",
    "        model, tokenizer, normalize_embeddings=False, mean_pooling=False, W_aug=distillation_model.proj)\n",
    "    print(eval(eval_model))"
   ]
  },
  {
   "cell_type": "code",
   "execution_count": 14,
   "metadata": {},
   "outputs": [],
   "source": [
    "os.makedirs(model_output_dir, exist_ok=True)\n"
   ]
  },
  {
   "cell_type": "code",
   "execution_count": 15,
   "metadata": {},
   "outputs": [],
   "source": [
    "distillation_weight = distillation_model.proj.weight.data\n",
    "\n",
    "torch.save(distillation_weight,\n",
    "           f\"{model_output_dir}/align_distillation.pt\")"
   ]
  },
  {
   "cell_type": "code",
   "execution_count": 16,
   "metadata": {},
   "outputs": [],
   "source": [
    "W_ridge_weight = W_ridge_model.weight.data\n",
    "\n",
    "torch.save(W_ridge_weight, f\"{model_output_dir}/align_ridge.pt\")"
   ]
  }
 ],
 "metadata": {
  "kernelspec": {
   "display_name": "venv",
   "language": "python",
   "name": "python3"
  },
  "language_info": {
   "codemirror_mode": {
    "name": "ipython",
    "version": 3
   },
   "file_extension": ".py",
   "mimetype": "text/x-python",
   "name": "python",
   "nbconvert_exporter": "python",
   "pygments_lexer": "ipython3",
   "version": "3.12.5"
  }
 },
 "nbformat": 4,
 "nbformat_minor": 2
}
