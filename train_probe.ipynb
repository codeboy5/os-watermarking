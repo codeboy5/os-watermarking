{
 "cells": [
  {
   "cell_type": "code",
   "execution_count": 1,
   "metadata": {},
   "outputs": [],
   "source": [
    "import os\n",
    "os.environ['CUDA_VISIBLE_DEVICES'] = \"0,1\""
   ]
  },
  {
   "cell_type": "code",
   "execution_count": 2,
   "metadata": {},
   "outputs": [
    {
     "data": {
      "text/plain": [
       "<torch._C.Generator at 0x7d599ff728f0>"
      ]
     },
     "execution_count": 2,
     "metadata": {},
     "output_type": "execute_result"
    }
   ],
   "source": [
    "import argparse\n",
    "import random\n",
    "import math\n",
    "import json\n",
    "import time \n",
    "import einops\n",
    "import torch\n",
    "import torch.nn as nn\n",
    "import torch.nn.functional as F\n",
    "\n",
    "from sklearn.preprocessing import StandardScaler\n",
    "from rich import print as rprint\n",
    "from typing import Dict, List\n",
    "from datasets import load_dataset\n",
    "from tqdm import tqdm\n",
    "from torch.utils.data import TensorDataset, DataLoader, random_split\n",
    "from transformers import AutoTokenizer, AutoModelForCausalLM, LogitsProcessorList\n",
    "import matplotlib.pyplot as plt\n",
    "\n",
    "\n",
    "torch.manual_seed(42)"
   ]
  },
  {
   "cell_type": "code",
   "execution_count": 3,
   "metadata": {},
   "outputs": [],
   "source": [
    "model_name = \"meta-llama/Llama-2-7b-hf\"\n",
    "#model_name = \"EleutherAI/pythia-1b\"\n",
    "#model_name = \"/assets/models/meta-llama-3.1-8b\"\n",
    "load_model = True"
   ]
  },
  {
   "cell_type": "code",
   "execution_count": 4,
   "metadata": {},
   "outputs": [
    {
     "data": {
      "application/vnd.jupyter.widget-view+json": {
       "model_id": "1fac545e5f9e40aa9671864d19acd7a7",
       "version_major": 2,
       "version_minor": 0
      },
      "text/plain": [
       "Loading checkpoint shards:   0%|          | 0/2 [00:00<?, ?it/s]"
      ]
     },
     "metadata": {},
     "output_type": "display_data"
    }
   ],
   "source": [
    "# tokenizer\n",
    "tokenizer = AutoTokenizer.from_pretrained(\n",
    "    model_name,\n",
    "    device_map=\"auto\")\n",
    "if tokenizer.pad_token is None:\n",
    "    tokenizer.pad_token = tokenizer.eos_token\n",
    "\n",
    "if load_model:\n",
    "    model = AutoModelForCausalLM.from_pretrained(model_name,\n",
    "                                                 device_map=\"auto\")\n",
    "    model.resize_token_embeddings(len(tokenizer))\n",
    "    model.eval()\n",
    "\n",
    "    \n",
    "# extract the embed_token layer and purge the model from memory\n",
    "w = model.model.embed_tokens.weight.data.detach().clone()\n"
   ]
  },
  {
   "cell_type": "code",
   "execution_count": 5,
   "metadata": {},
   "outputs": [],
   "source": [
    "del model\n",
    "import gc\n",
    "gc.collect()\n",
    "with torch.no_grad():\n",
    "    torch.cuda.empty_cache()"
   ]
  },
  {
   "cell_type": "code",
   "execution_count": 6,
   "metadata": {},
   "outputs": [
    {
     "name": "stdout",
     "output_type": "stream",
     "text": [
      "Using device:  cuda\n"
     ]
    }
   ],
   "source": [
    "device = torch.device(\"cuda\")\n",
    "print(\"Using device: \", device)"
   ]
  },
  {
   "cell_type": "markdown",
   "metadata": {},
   "source": [
    "#### Dataset with `[X,y]` with `X=h(t)` and `y=token(t)`"
   ]
  },
  {
   "cell_type": "markdown",
   "metadata": {},
   "source": [
    "#### Create the dataset"
   ]
  },
  {
   "cell_type": "markdown",
   "metadata": {},
   "source": [
    "#### Load the dataset"
   ]
  },
  {
   "cell_type": "code",
   "execution_count": 7,
   "metadata": {},
   "outputs": [
    {
     "name": "stderr",
     "output_type": "stream",
     "text": [
      "/tmp/ipykernel_2759739/2044593793.py:3: FutureWarning: You are using `torch.load` with `weights_only=False` (the current default value), which uses the default pickle module implicitly. It is possible to construct malicious pickle data which will execute arbitrary code during unpickling (See https://github.com/pytorch/pytorch/blob/main/SECURITY.md#untrusted-models for more details). In a future release, the default value for `weights_only` will be flipped to `True`. This limits the functions that could be executed during unpickling. Arbitrary objects will no longer be allowed to be loaded via this mode unless they are explicitly allowlisted by the user via `torch.serialization.add_safe_globals`. We recommend you start setting `weights_only=True` for any use case where you don't have full control of the loaded file. Please open an issue on GitHub for any issues related to this experimental feature.\n",
      "  X_dataset = torch.load(f\"data/X_dataset_{model_suffix}.pt\")\n"
     ]
    },
    {
     "ename": "KeyboardInterrupt",
     "evalue": "",
     "output_type": "error",
     "traceback": [
      "\u001b[0;31m---------------------------------------------------------------------------\u001b[0m",
      "\u001b[0;31mKeyboardInterrupt\u001b[0m                         Traceback (most recent call last)",
      "Cell \u001b[0;32mIn[7], line 3\u001b[0m\n\u001b[1;32m      1\u001b[0m model_suffix \u001b[38;5;241m=\u001b[39m model_name\u001b[38;5;241m.\u001b[39msplit(\u001b[38;5;124m\"\u001b[39m\u001b[38;5;124m/\u001b[39m\u001b[38;5;124m\"\u001b[39m)[\u001b[38;5;241m-\u001b[39m\u001b[38;5;241m1\u001b[39m]\n\u001b[0;32m----> 3\u001b[0m X_dataset \u001b[38;5;241m=\u001b[39m \u001b[43mtorch\u001b[49m\u001b[38;5;241;43m.\u001b[39;49m\u001b[43mload\u001b[49m\u001b[43m(\u001b[49m\u001b[38;5;124;43mf\u001b[39;49m\u001b[38;5;124;43m\"\u001b[39;49m\u001b[38;5;124;43mdata/X_dataset_\u001b[39;49m\u001b[38;5;132;43;01m{\u001b[39;49;00m\u001b[43mmodel_suffix\u001b[49m\u001b[38;5;132;43;01m}\u001b[39;49;00m\u001b[38;5;124;43m.pt\u001b[39;49m\u001b[38;5;124;43m\"\u001b[39;49m\u001b[43m)\u001b[49m\n\u001b[1;32m      4\u001b[0m y_dataset \u001b[38;5;241m=\u001b[39m torch\u001b[38;5;241m.\u001b[39mload(\u001b[38;5;124mf\u001b[39m\u001b[38;5;124m\"\u001b[39m\u001b[38;5;124mdata/y_dataset_\u001b[39m\u001b[38;5;132;01m{\u001b[39;00mmodel_suffix\u001b[38;5;132;01m}\u001b[39;00m\u001b[38;5;124m.pt\u001b[39m\u001b[38;5;124m\"\u001b[39m)\n",
      "File \u001b[0;32m~/miniconda3/envs/venv/lib/python3.12/site-packages/torch/serialization.py:1360\u001b[0m, in \u001b[0;36mload\u001b[0;34m(f, map_location, pickle_module, weights_only, mmap, **pickle_load_args)\u001b[0m\n\u001b[1;32m   1358\u001b[0m             \u001b[38;5;28;01mexcept\u001b[39;00m pickle\u001b[38;5;241m.\u001b[39mUnpicklingError \u001b[38;5;28;01mas\u001b[39;00m e:\n\u001b[1;32m   1359\u001b[0m                 \u001b[38;5;28;01mraise\u001b[39;00m pickle\u001b[38;5;241m.\u001b[39mUnpicklingError(_get_wo_message(\u001b[38;5;28mstr\u001b[39m(e))) \u001b[38;5;28;01mfrom\u001b[39;00m \u001b[38;5;28;01mNone\u001b[39;00m\n\u001b[0;32m-> 1360\u001b[0m         \u001b[38;5;28;01mreturn\u001b[39;00m \u001b[43m_load\u001b[49m\u001b[43m(\u001b[49m\n\u001b[1;32m   1361\u001b[0m \u001b[43m            \u001b[49m\u001b[43mopened_zipfile\u001b[49m\u001b[43m,\u001b[49m\n\u001b[1;32m   1362\u001b[0m \u001b[43m            \u001b[49m\u001b[43mmap_location\u001b[49m\u001b[43m,\u001b[49m\n\u001b[1;32m   1363\u001b[0m \u001b[43m            \u001b[49m\u001b[43mpickle_module\u001b[49m\u001b[43m,\u001b[49m\n\u001b[1;32m   1364\u001b[0m \u001b[43m            \u001b[49m\u001b[43moverall_storage\u001b[49m\u001b[38;5;241;43m=\u001b[39;49m\u001b[43moverall_storage\u001b[49m\u001b[43m,\u001b[49m\n\u001b[1;32m   1365\u001b[0m \u001b[43m            \u001b[49m\u001b[38;5;241;43m*\u001b[39;49m\u001b[38;5;241;43m*\u001b[39;49m\u001b[43mpickle_load_args\u001b[49m\u001b[43m,\u001b[49m\n\u001b[1;32m   1366\u001b[0m \u001b[43m        \u001b[49m\u001b[43m)\u001b[49m\n\u001b[1;32m   1367\u001b[0m \u001b[38;5;28;01mif\u001b[39;00m mmap:\n\u001b[1;32m   1368\u001b[0m     f_name \u001b[38;5;241m=\u001b[39m \u001b[38;5;124m\"\u001b[39m\u001b[38;5;124m\"\u001b[39m \u001b[38;5;28;01mif\u001b[39;00m \u001b[38;5;129;01mnot\u001b[39;00m \u001b[38;5;28misinstance\u001b[39m(f, \u001b[38;5;28mstr\u001b[39m) \u001b[38;5;28;01melse\u001b[39;00m \u001b[38;5;124mf\u001b[39m\u001b[38;5;124m\"\u001b[39m\u001b[38;5;132;01m{\u001b[39;00mf\u001b[38;5;132;01m}\u001b[39;00m\u001b[38;5;124m, \u001b[39m\u001b[38;5;124m\"\u001b[39m\n",
      "File \u001b[0;32m~/miniconda3/envs/venv/lib/python3.12/site-packages/torch/serialization.py:1848\u001b[0m, in \u001b[0;36m_load\u001b[0;34m(zip_file, map_location, pickle_module, pickle_file, overall_storage, **pickle_load_args)\u001b[0m\n\u001b[1;32m   1846\u001b[0m \u001b[38;5;28;01mglobal\u001b[39;00m _serialization_tls\n\u001b[1;32m   1847\u001b[0m _serialization_tls\u001b[38;5;241m.\u001b[39mmap_location \u001b[38;5;241m=\u001b[39m map_location\n\u001b[0;32m-> 1848\u001b[0m result \u001b[38;5;241m=\u001b[39m \u001b[43munpickler\u001b[49m\u001b[38;5;241;43m.\u001b[39;49m\u001b[43mload\u001b[49m\u001b[43m(\u001b[49m\u001b[43m)\u001b[49m\n\u001b[1;32m   1849\u001b[0m _serialization_tls\u001b[38;5;241m.\u001b[39mmap_location \u001b[38;5;241m=\u001b[39m \u001b[38;5;28;01mNone\u001b[39;00m\n\u001b[1;32m   1851\u001b[0m torch\u001b[38;5;241m.\u001b[39m_utils\u001b[38;5;241m.\u001b[39m_validate_loaded_sparse_tensors()\n",
      "File \u001b[0;32m~/miniconda3/envs/venv/lib/python3.12/site-packages/torch/serialization.py:1812\u001b[0m, in \u001b[0;36m_load.<locals>.persistent_load\u001b[0;34m(saved_id)\u001b[0m\n\u001b[1;32m   1810\u001b[0m \u001b[38;5;28;01melse\u001b[39;00m:\n\u001b[1;32m   1811\u001b[0m     nbytes \u001b[38;5;241m=\u001b[39m numel \u001b[38;5;241m*\u001b[39m torch\u001b[38;5;241m.\u001b[39m_utils\u001b[38;5;241m.\u001b[39m_element_size(dtype)\n\u001b[0;32m-> 1812\u001b[0m     typed_storage \u001b[38;5;241m=\u001b[39m \u001b[43mload_tensor\u001b[49m\u001b[43m(\u001b[49m\n\u001b[1;32m   1813\u001b[0m \u001b[43m        \u001b[49m\u001b[43mdtype\u001b[49m\u001b[43m,\u001b[49m\u001b[43m \u001b[49m\u001b[43mnbytes\u001b[49m\u001b[43m,\u001b[49m\u001b[43m \u001b[49m\u001b[43mkey\u001b[49m\u001b[43m,\u001b[49m\u001b[43m \u001b[49m\u001b[43m_maybe_decode_ascii\u001b[49m\u001b[43m(\u001b[49m\u001b[43mlocation\u001b[49m\u001b[43m)\u001b[49m\n\u001b[1;32m   1814\u001b[0m \u001b[43m    \u001b[49m\u001b[43m)\u001b[49m\n\u001b[1;32m   1816\u001b[0m \u001b[38;5;28;01mreturn\u001b[39;00m typed_storage\n",
      "File \u001b[0;32m~/miniconda3/envs/venv/lib/python3.12/site-packages/torch/serialization.py:1772\u001b[0m, in \u001b[0;36m_load.<locals>.load_tensor\u001b[0;34m(dtype, numel, key, location)\u001b[0m\n\u001b[1;32m   1769\u001b[0m     storage \u001b[38;5;241m=\u001b[39m overall_storage[storage_offset : storage_offset \u001b[38;5;241m+\u001b[39m numel]\n\u001b[1;32m   1770\u001b[0m \u001b[38;5;28;01melse\u001b[39;00m:\n\u001b[1;32m   1771\u001b[0m     storage \u001b[38;5;241m=\u001b[39m (\n\u001b[0;32m-> 1772\u001b[0m         \u001b[43mzip_file\u001b[49m\u001b[38;5;241;43m.\u001b[39;49m\u001b[43mget_storage_from_record\u001b[49m\u001b[43m(\u001b[49m\u001b[43mname\u001b[49m\u001b[43m,\u001b[49m\u001b[43m \u001b[49m\u001b[43mnumel\u001b[49m\u001b[43m,\u001b[49m\u001b[43m \u001b[49m\u001b[43mtorch\u001b[49m\u001b[38;5;241;43m.\u001b[39;49m\u001b[43mUntypedStorage\u001b[49m\u001b[43m)\u001b[49m\n\u001b[1;32m   1773\u001b[0m         \u001b[38;5;241m.\u001b[39m_typed_storage()\n\u001b[1;32m   1774\u001b[0m         \u001b[38;5;241m.\u001b[39m_untyped_storage\n\u001b[1;32m   1775\u001b[0m     )\n\u001b[1;32m   1776\u001b[0m \u001b[38;5;66;03m# swap here if byteswapping is needed\u001b[39;00m\n\u001b[1;32m   1777\u001b[0m \u001b[38;5;28;01mif\u001b[39;00m byteorderdata \u001b[38;5;129;01mis\u001b[39;00m \u001b[38;5;129;01mnot\u001b[39;00m \u001b[38;5;28;01mNone\u001b[39;00m:\n",
      "\u001b[0;31mKeyboardInterrupt\u001b[0m: "
     ]
    }
   ],
   "source": [
    "model_suffix = model_name.split(\"/\")[-1]\n",
    "\n",
    "X_dataset = torch.load(f\"data/X_dataset_{model_suffix}.pt\")\n",
    "y_dataset = torch.load(f\"data/y_dataset_{model_suffix}.pt\")"
   ]
  },
  {
   "cell_type": "code",
   "execution_count": 8,
   "metadata": {},
   "outputs": [],
   "source": [
    "dataset_size = X_dataset.shape[0]\n",
    "perm = torch.randperm(dataset_size)\n",
    "\n",
    "train_size = int(0.8 * dataset_size)\n",
    "\n",
    "X_train, y_train = X_dataset[ perm[:train_size] ], y_dataset[ perm[:train_size] ]\n",
    "X_val, y_val = X_dataset[ perm[train_size:] ], y_dataset[ perm[train_size:] ]"
   ]
  },
  {
   "cell_type": "code",
   "execution_count": 9,
   "metadata": {},
   "outputs": [
    {
     "name": "stdout",
     "output_type": "stream",
     "text": [
      "Train Dataset Size:  torch.Size([1310720, 4096])\n",
      "Val Dataset Size:  torch.Size([327680, 4096])\n"
     ]
    }
   ],
   "source": [
    "print(\"Train Dataset Size: \", X_train.shape)\n",
    "print(\"Val Dataset Size: \", X_val.shape)\n",
    "hidden_dim = X_dataset.shape[1]"
   ]
  },
  {
   "cell_type": "code",
   "execution_count": 10,
   "metadata": {},
   "outputs": [],
   "source": [
    "# Compute the mean and standard deviation\n",
    "mean = torch.mean(X_train, dim=0)\n",
    "std = torch.std(X_train, dim=0)\n",
    "\n",
    "X_train = (X_train - mean) / std\n",
    "X_val = (X_val - mean) / std"
   ]
  },
  {
   "cell_type": "code",
   "execution_count": 11,
   "metadata": {},
   "outputs": [],
   "source": [
    "train_dataset = TensorDataset(X_train, y_train)\n",
    "val_dataset = TensorDataset(X_val, y_val)\n",
    "\n",
    "train_dataloader = DataLoader(train_dataset, batch_size=64, shuffle=True)\n",
    "val_dataloader = DataLoader(val_dataset, batch_size=64)"
   ]
  },
  {
   "cell_type": "markdown",
   "metadata": {},
   "source": [
    "### Linear probe for current token classification"
   ]
  },
  {
   "cell_type": "markdown",
   "metadata": {},
   "source": [
    "- Derive soft labels from inverse transformations of token embeddings using the psuedoinverse of the embedding layer matrix\n",
    "- Train linear model without bias using MSE loss"
   ]
  },
  {
   "cell_type": "markdown",
   "metadata": {},
   "source": [
    "#### Train the model"
   ]
  },
  {
   "cell_type": "code",
   "execution_count": 12,
   "metadata": {},
   "outputs": [
    {
     "name": "stdout",
     "output_type": "stream",
     "text": [
      "Mean: -4.74090084026102e-05\n",
      "Standard Deviation: 0.016960974782705307\n"
     ]
    }
   ],
   "source": [
    "#w = model.gpt_neox.embed_in.weight.data\n",
    "#w = model.model.embed_tokens.weight.data\n",
    "mean = torch.mean(w)\n",
    "std_dev = torch.std(w)\n",
    "print(\"Mean:\", mean.item())\n",
    "print(\"Standard Deviation:\", std_dev.item())\n",
    "w_pinv = torch.pinverse(w)\n",
    "vocab_size = len(tokenizer)\n",
    "\n",
    "# Initialize linear model with w_pinv   \n",
    "# with torch.no_grad():\n",
    "#     linear_nn.fc1.weight.copy_(w_pinv.T)"
   ]
  },
  {
   "cell_type": "code",
   "execution_count": 13,
   "metadata": {},
   "outputs": [
    {
     "name": "stdout",
     "output_type": "stream",
     "text": [
      "Accuracy of w_pinv assigning max value to the right token: 99.65%\n"
     ]
    }
   ],
   "source": [
    "# Reconstruct all embeddings using w_pinv\n",
    "\n",
    "# w_chunks = torch.chunk(w, torch.cuda.device_count(), dim=0)\n",
    "\n",
    "# results = []\n",
    "# for i, w_chunk in enumerate(w_chunks):\n",
    "#     with torch.cuda.device(i):\n",
    "#         results.append(torch.matmul(w_chunk.cuda(i), w_pinv.cuda(i)))\n",
    "\n",
    "# results = [result.to(\"cuda:1\") for result in results]\n",
    "\n",
    "# one_hot_recon = torch.cat(results, dim=0)\n",
    "\n",
    "one_hot_recon = torch.matmul(w, w_pinv)\n",
    "\n",
    "\n",
    "# Find the indices of the maximum values in the reconstructions\n",
    "predicted_indices = one_hot_recon.argmax(dim=1)\n",
    "# Count how many predictions match their respective indices\n",
    "correct_count = (predicted_indices == torch.arange(vocab_size, device=device)).sum().item()\n",
    "\n",
    "accuracy = correct_count / vocab_size\n",
    "print(f\"Accuracy of w_pinv assigning max value to the right token: {accuracy * 100:.2f}%\")"
   ]
  },
  {
   "cell_type": "code",
   "execution_count": 14,
   "metadata": {},
   "outputs": [],
   "source": [
    "def find_clusters(tensor, K):\n",
    "    clusters = []\n",
    "    for k in range(K, 0, -1):\n",
    "        _, top_k_indices = torch.topk(tensor, k, dim=1)\n",
    "\n",
    "        sorted_top_k_indices = torch.sort(top_k_indices, dim=1)[0]\n",
    "\n",
    "        unique_rows, inverse_indices, counts = torch.unique(\n",
    "            sorted_top_k_indices, dim=0, return_inverse=True, return_counts=True)\n",
    "\n",
    "        k_clusters = unique_rows[counts == k]\n",
    "        k_clusters_indices = inverse_indices[k_clusters]\n",
    "        row_equality = (k_clusters_indices ==\n",
    "                        k_clusters_indices[:, 0:1]).all(dim=1)\n",
    "        assert row_equality.all(), \"Row equality check failed!\"\n",
    "\n",
    "        # Remove subsets of the last added list of larger clusters\n",
    "        valid_clusters = []\n",
    "        if len(clusters) > 0:  \n",
    "            # Check against all indices of every cluster\n",
    "            indices = set(torch.cat([c.flatten() for c in clusters], dim=0).tolist())\n",
    "            mask = torch.tensor([\n",
    "                set(row.tolist()).issubset(indices) for row in k_clusters\n",
    "            ])\n",
    "            valid_clusters = k_clusters[~mask]\n",
    "\n",
    "        else:  # If no larger clusters exist, all are valid\n",
    "            valid_clusters = k_clusters\n",
    "\n",
    "        clusters.append(valid_clusters)\n",
    "\n",
    "    # for each tensor in cluster, convert to list of 1D tensors\n",
    "    clusters = [cluster.tolist() for cluster in clusters]\n",
    "    # create on giant list of clusters\n",
    "    clusters = [cluster for sublist in clusters for cluster in sublist]\n",
    "    return clusters\n",
    "\n",
    "\n",
    "clusters = find_clusters(one_hot_recon, 6)"
   ]
  },
  {
   "cell_type": "code",
   "execution_count": 15,
   "metadata": {},
   "outputs": [],
   "source": [
    "# flatten the clusters\n",
    "flat_clusters = [item for sublist in clusters for item in sublist]\n",
    "# check for duplicates\n",
    "assert len(flat_clusters) == len(set(flat_clusters)), \"Duplicates found in clusters\"\n",
    "\n",
    "# convert list of lists to list of tensors\n",
    "clusters = [torch.tensor(cluster, device=one_hot_recon.device) for cluster in clusters]"
   ]
  },
  {
   "cell_type": "code",
   "execution_count": 16,
   "metadata": {},
   "outputs": [],
   "source": [
    "# Initialize a new tensor to store the merged values\n",
    "merged_one_hot_recon = torch.zeros((len(clusters), len(clusters)), device=one_hot_recon.device)\n",
    "\n",
    "merged_rows = torch.stack([one_hot_recon[c].mean(dim=0) for c in clusters])\n",
    "\n",
    "\n",
    "merged_one_hot_recon = torch.stack(\n",
    "    [merged_rows[:, c].mean(dim=1) for c in clusters],\n",
    "    dim=1\n",
    ")\n"
   ]
  },
  {
   "cell_type": "code",
   "execution_count": 17,
   "metadata": {},
   "outputs": [],
   "source": [
    "# create a 1 dimensional tensor of size vocab_size to store the indices of the merged clusters\n",
    "index_map = torch.zeros(vocab_size, device=one_hot_recon.device, dtype=torch.long)\n",
    "for i, cluster in enumerate(clusters):\n",
    "    for index in cluster:\n",
    "        index_map[index] = i     \n"
   ]
  },
  {
   "cell_type": "code",
   "execution_count": 18,
   "metadata": {},
   "outputs": [
    {
     "data": {
      "text/plain": [
       "LinearProbe(\n",
       "  (fc1): Linear(in_features=4096, out_features=20469, bias=False)\n",
       ")"
      ]
     },
     "execution_count": 18,
     "metadata": {},
     "output_type": "execute_result"
    }
   ],
   "source": [
    "class LinearProbe(nn.Module):\n",
    "    def __init__(self, hdim=hidden_dim, vocab_size=merged_one_hot_recon.shape[0]):\n",
    "        super().__init__()\n",
    "        self.fc1 = nn.Linear(hdim, vocab_size, bias=False)\n",
    "\n",
    "    def forward(self, X):\n",
    "        x = self.fc1(X)\n",
    "        return x\n",
    "\n",
    "\n",
    "linear_nn = LinearProbe()\n",
    "linear_nn.to(device)"
   ]
  },
  {
   "cell_type": "code",
   "execution_count": 19,
   "metadata": {},
   "outputs": [],
   "source": [
    "# Normalize reconstructions\n",
    "row_min = torch.min(merged_one_hot_recon, dim=1, keepdim=True)[0]\n",
    "row_max = torch.max(merged_one_hot_recon, dim=1, keepdim=True)[0]\n",
    "range_vals = row_max - row_min\n",
    "# Perform min-max scaling for each row\n",
    "scaled_matrix = (merged_one_hot_recon - row_min) / range_vals\n",
    "# Control sparisty by raising the scaled values to a power\n",
    "exp = 2\n",
    "scaled_matrix = torch.pow(scaled_matrix, exp)"
   ]
  },
  {
   "cell_type": "code",
   "execution_count": 20,
   "metadata": {},
   "outputs": [
    {
     "data": {
      "text/plain": [
       "(array([8.400e+01, 1.261e+03, 3.301e+03, 3.243e+03, 2.643e+03, 2.845e+03,\n",
       "        2.652e+03, 1.977e+03, 1.155e+03, 6.340e+02, 3.040e+02, 1.430e+02,\n",
       "        8.400e+01, 4.000e+01, 2.300e+01, 1.800e+01, 8.000e+00, 6.000e+00,\n",
       "        3.000e+00, 6.000e+00, 3.000e+00, 2.000e+00, 1.000e+00, 4.000e+00,\n",
       "        0.000e+00, 1.000e+00, 1.000e+00, 5.000e+00, 0.000e+00, 0.000e+00,\n",
       "        1.000e+00, 0.000e+00, 0.000e+00, 0.000e+00, 1.000e+00, 0.000e+00,\n",
       "        0.000e+00, 1.000e+00, 2.000e+00, 0.000e+00, 1.000e+00, 0.000e+00,\n",
       "        1.000e+00, 1.000e+00, 0.000e+00, 0.000e+00, 0.000e+00, 0.000e+00,\n",
       "        1.000e+00, 0.000e+00, 1.000e+00, 1.000e+00, 1.000e+00, 0.000e+00,\n",
       "        0.000e+00, 0.000e+00, 0.000e+00, 1.000e+00, 1.000e+00, 1.000e+00,\n",
       "        1.000e+00, 0.000e+00, 0.000e+00, 0.000e+00, 1.000e+00, 1.000e+00,\n",
       "        0.000e+00, 0.000e+00, 0.000e+00, 0.000e+00, 0.000e+00, 0.000e+00,\n",
       "        0.000e+00, 0.000e+00, 0.000e+00, 0.000e+00, 1.000e+00, 0.000e+00,\n",
       "        0.000e+00, 0.000e+00, 0.000e+00, 0.000e+00, 0.000e+00, 0.000e+00,\n",
       "        0.000e+00, 0.000e+00, 1.000e+00, 0.000e+00, 1.000e+00, 0.000e+00,\n",
       "        0.000e+00, 0.000e+00, 0.000e+00, 0.000e+00, 0.000e+00, 0.000e+00,\n",
       "        0.000e+00, 0.000e+00, 0.000e+00, 1.000e+00]),\n",
       " array([ 808.02075195,  891.58624268,  975.1517334 , 1058.71716309,\n",
       "        1142.28271484, 1225.84814453, 1309.41357422, 1392.97900391,\n",
       "        1476.54455566, 1560.11010742, 1643.67553711, 1727.2409668 ,\n",
       "        1810.80639648, 1894.37194824, 1977.93737793, 2061.50292969,\n",
       "        2145.06835938, 2228.63378906, 2312.19921875, 2395.76464844,\n",
       "        2479.33032227, 2562.89575195, 2646.46118164, 2730.02685547,\n",
       "        2813.59228516, 2897.15771484, 2980.72314453, 3064.28857422,\n",
       "        3147.85400391, 3231.41943359, 3314.98510742, 3398.55053711,\n",
       "        3482.1159668 , 3565.68139648, 3649.24682617, 3732.8125    ,\n",
       "        3816.37792969, 3899.94335938, 3983.50878906, 4067.07421875,\n",
       "        4150.63964844, 4234.20507812, 4317.77050781, 4401.3359375 ,\n",
       "        4484.90136719, 4568.46679688, 4652.03271484, 4735.59814453,\n",
       "        4819.16357422, 4902.72900391, 4986.29492188, 5069.86035156,\n",
       "        5153.42578125, 5236.99121094, 5320.55664062, 5404.12207031,\n",
       "        5487.6875    , 5571.25292969, 5654.81835938, 5738.38378906,\n",
       "        5821.94921875, 5905.51464844, 5989.08007812, 6072.64550781,\n",
       "        6156.2109375 , 6239.77636719, 6323.34179688, 6406.90722656,\n",
       "        6490.47265625, 6574.03808594, 6657.60449219, 6741.16992188,\n",
       "        6824.73535156, 6908.30078125, 6991.86621094, 7075.43164062,\n",
       "        7158.99707031, 7242.5625    , 7326.12792969, 7409.69335938,\n",
       "        7493.25878906, 7576.82421875, 7660.38964844, 7743.95507812,\n",
       "        7827.52050781, 7911.0859375 , 7994.65136719, 8078.21679688,\n",
       "        8161.78222656, 8245.34765625, 8328.91308594, 8412.47949219,\n",
       "        8496.04492188, 8579.61035156, 8663.17578125, 8746.74121094,\n",
       "        8830.30664062, 8913.87207031, 8997.4375    , 9081.00292969,\n",
       "        9164.56835938]),\n",
       " <BarContainer object of 100 artists>)"
      ]
     },
     "execution_count": 20,
     "metadata": {},
     "output_type": "execute_result"
    },
    {
     "data": {
      "image/png": "[encoded data removed]",
      "text/plain": [
       "<Figure size 640x480 with 1 Axes>"
      ]
     },
     "metadata": {},
     "output_type": "display_data"
    }
   ],
   "source": [
    "# Measure sparisty of each row in reconstructions with sum\n",
    "sparsity = torch.sum(scaled_matrix, dim=1)\n",
    "# plot histogram of sparsity\n",
    "plt.hist(sparsity.cpu().numpy(), bins=100)"
   ]
  },
  {
   "cell_type": "code",
   "execution_count": 21,
   "metadata": {},
   "outputs": [],
   "source": [
    "class WeightedMSELoss(nn.Module):\n",
    "    def __init__(self, label_weight, penalty_weight):\n",
    "        super(WeightedMSELoss, self).__init__()\n",
    "        self.label_weight = label_weight\n",
    "        self.penalty_weight = penalty_weight\n",
    "\n",
    "    def forward(self, predictions, soft_labels, label_indices):\n",
    "        \"\"\"\n",
    "        Args:\n",
    "            predictions (torch.Tensor): Model predictions of shape (batch_size, num_classes).\n",
    "            soft_labels (torch.Tensor): Ground truth soft labels of shape (batch_size, num_classes).\n",
    "            label_indices (torch.Tensor): Indices of the target label for each batch item. Shape (batch_size,).\n",
    "\n",
    "        Returns:\n",
    "            torch.Tensor: The weighted MSE loss.\n",
    "        \"\"\"\n",
    "        batch_size, _ = predictions.size()\n",
    "        weights = torch.ones_like(predictions)\n",
    "        weights[torch.arange(batch_size), label_indices] = self.label_weight\n",
    "        squared_diff = (predictions - soft_labels) ** 2\n",
    "        weighted_squared_diff = squared_diff * weights\n",
    "        mess_loss = weighted_squared_diff.mean()\n",
    "\n",
    "        penalty = torch.clamp(-predictions, min=0)  # Penalize only values <= 0\n",
    "        penalty_loss = self.penalty_weight * penalty.sum() / predictions.numel()\n",
    "\n",
    "        return mess_loss + penalty_loss"
   ]
  },
  {
   "cell_type": "code",
   "execution_count": 22,
   "metadata": {},
   "outputs": [],
   "source": [
    "num_epochs = 11\n",
    "learning_rate = 5e-5\n",
    "\n",
    "mse_criterion = WeightedMSELoss(label_weight=20, penalty_weight=0)\n",
    "optimizer = torch.optim.AdamW(linear_nn.parameters(), lr=learning_rate)"
   ]
  },
  {
   "cell_type": "code",
   "execution_count": 23,
   "metadata": {},
   "outputs": [
    {
     "name": "stderr",
     "output_type": "stream",
     "text": [
      "9it [00:00, 41.72it/s]"
     ]
    },
    {
     "name": "stdout",
     "output_type": "stream",
     "text": [
      "Step: 0 with Train Loss:  0.010029754601418972\n"
     ]
    },
    {
     "name": "stderr",
     "output_type": "stream",
     "text": [
      "5009it [01:06, 73.13it/s]"
     ]
    },
    {
     "name": "stdout",
     "output_type": "stream",
     "text": [
      "Step: 5000 with Train Loss:  0.01216174941509962\n"
     ]
    },
    {
     "name": "stderr",
     "output_type": "stream",
     "text": [
      "10009it [02:13, 73.70it/s]"
     ]
    },
    {
     "name": "stdout",
     "output_type": "stream",
     "text": [
      "Step: 10000 with Train Loss:  0.4112742841243744\n"
     ]
    },
    {
     "name": "stderr",
     "output_type": "stream",
     "text": [
      "15013it [03:21, 73.69it/s]"
     ]
    },
    {
     "name": "stdout",
     "output_type": "stream",
     "text": [
      "Step: 15000 with Train Loss:  0.00938702467828989\n"
     ]
    },
    {
     "name": "stderr",
     "output_type": "stream",
     "text": [
      "20013it [04:28, 76.63it/s]"
     ]
    },
    {
     "name": "stdout",
     "output_type": "stream",
     "text": [
      "Step: 20000 with Train Loss:  0.009219292551279068\n"
     ]
    },
    {
     "name": "stderr",
     "output_type": "stream",
     "text": [
      "20480it [04:34, 74.67it/s]\n"
     ]
    },
    {
     "name": "stdout",
     "output_type": "stream",
     "text": [
      "Epoch: 1 | Val Acc:  tensor(0.2853, device='cuda:0')\n"
     ]
    },
    {
     "name": "stderr",
     "output_type": "stream",
     "text": [
      "4it [00:00, 39.49it/s]"
     ]
    },
    {
     "name": "stdout",
     "output_type": "stream",
     "text": [
      "Step: 0 with Train Loss:  0.007569699082523584\n"
     ]
    },
    {
     "name": "stderr",
     "output_type": "stream",
     "text": [
      "5012it [01:05, 76.84it/s]"
     ]
    },
    {
     "name": "stdout",
     "output_type": "stream",
     "text": [
      "Step: 5000 with Train Loss:  0.008725094608962536\n"
     ]
    },
    {
     "name": "stderr",
     "output_type": "stream",
     "text": [
      "10012it [02:09, 76.45it/s]"
     ]
    },
    {
     "name": "stdout",
     "output_type": "stream",
     "text": [
      "Step: 10000 with Train Loss:  0.0081334775313735\n"
     ]
    },
    {
     "name": "stderr",
     "output_type": "stream",
     "text": [
      "15012it [03:15, 76.56it/s]"
     ]
    },
    {
     "name": "stdout",
     "output_type": "stream",
     "text": [
      "Step: 15000 with Train Loss:  0.01085115596652031\n"
     ]
    },
    {
     "name": "stderr",
     "output_type": "stream",
     "text": [
      "20012it [04:20, 76.66it/s]"
     ]
    },
    {
     "name": "stdout",
     "output_type": "stream",
     "text": [
      "Step: 20000 with Train Loss:  0.008357030339539051\n"
     ]
    },
    {
     "name": "stderr",
     "output_type": "stream",
     "text": [
      "20480it [04:26, 76.76it/s]\n"
     ]
    },
    {
     "name": "stdout",
     "output_type": "stream",
     "text": [
      "Epoch: 2 | Val Acc:  tensor(0.3396, device='cuda:0')\n"
     ]
    },
    {
     "name": "stderr",
     "output_type": "stream",
     "text": [
      "4it [00:00, 39.05it/s]"
     ]
    },
    {
     "name": "stdout",
     "output_type": "stream",
     "text": [
      "Step: 0 with Train Loss:  0.006608347874134779\n"
     ]
    },
    {
     "name": "stderr",
     "output_type": "stream",
     "text": [
      "5012it [01:05, 76.50it/s]"
     ]
    },
    {
     "name": "stdout",
     "output_type": "stream",
     "text": [
      "Step: 5000 with Train Loss:  0.010813554748892784\n"
     ]
    },
    {
     "name": "stderr",
     "output_type": "stream",
     "text": [
      "10012it [02:11, 76.71it/s]"
     ]
    },
    {
     "name": "stdout",
     "output_type": "stream",
     "text": [
      "Step: 10000 with Train Loss:  0.009229595772922039\n"
     ]
    },
    {
     "name": "stderr",
     "output_type": "stream",
     "text": [
      "15012it [03:16, 76.89it/s]"
     ]
    },
    {
     "name": "stdout",
     "output_type": "stream",
     "text": [
      "Step: 15000 with Train Loss:  0.11964031308889389\n"
     ]
    },
    {
     "name": "stderr",
     "output_type": "stream",
     "text": [
      "20012it [04:21, 76.73it/s]"
     ]
    },
    {
     "name": "stdout",
     "output_type": "stream",
     "text": [
      "Step: 20000 with Train Loss:  0.07680076360702515\n"
     ]
    },
    {
     "name": "stderr",
     "output_type": "stream",
     "text": [
      "20480it [04:28, 76.41it/s]\n"
     ]
    },
    {
     "name": "stdout",
     "output_type": "stream",
     "text": [
      "Epoch: 3 | Val Acc:  tensor(0.3659, device='cuda:0')\n"
     ]
    },
    {
     "name": "stderr",
     "output_type": "stream",
     "text": [
      "4it [00:00, 39.27it/s]"
     ]
    },
    {
     "name": "stdout",
     "output_type": "stream",
     "text": [
      "Step: 0 with Train Loss:  0.008155073039233685\n"
     ]
    },
    {
     "name": "stderr",
     "output_type": "stream",
     "text": [
      "5012it [01:05, 76.59it/s]"
     ]
    },
    {
     "name": "stdout",
     "output_type": "stream",
     "text": [
      "Step: 5000 with Train Loss:  0.008667193353176117\n"
     ]
    },
    {
     "name": "stderr",
     "output_type": "stream",
     "text": [
      "10012it [02:10, 76.49it/s]"
     ]
    },
    {
     "name": "stdout",
     "output_type": "stream",
     "text": [
      "Step: 10000 with Train Loss:  0.00918000377714634\n"
     ]
    },
    {
     "name": "stderr",
     "output_type": "stream",
     "text": [
      "15011it [03:16, 76.77it/s]"
     ]
    },
    {
     "name": "stdout",
     "output_type": "stream",
     "text": [
      "Step: 15000 with Train Loss:  0.008022366091609001\n"
     ]
    },
    {
     "name": "stderr",
     "output_type": "stream",
     "text": [
      "20009it [04:21, 76.96it/s]"
     ]
    },
    {
     "name": "stdout",
     "output_type": "stream",
     "text": [
      "Step: 20000 with Train Loss:  0.009851804934442043\n"
     ]
    },
    {
     "name": "stderr",
     "output_type": "stream",
     "text": [
      "20480it [04:28, 76.41it/s]\n"
     ]
    },
    {
     "name": "stdout",
     "output_type": "stream",
     "text": [
      "Epoch: 4 | Val Acc:  tensor(0.3885, device='cuda:0')\n"
     ]
    },
    {
     "name": "stderr",
     "output_type": "stream",
     "text": [
      "4it [00:00, 39.52it/s]"
     ]
    },
    {
     "name": "stdout",
     "output_type": "stream",
     "text": [
      "Step: 0 with Train Loss:  0.009374614804983139\n"
     ]
    },
    {
     "name": "stderr",
     "output_type": "stream",
     "text": [
      "5012it [01:05, 70.36it/s]"
     ]
    },
    {
     "name": "stdout",
     "output_type": "stream",
     "text": [
      "Step: 5000 with Train Loss:  0.09449932724237442\n"
     ]
    },
    {
     "name": "stderr",
     "output_type": "stream",
     "text": [
      "10012it [02:11, 76.95it/s]"
     ]
    },
    {
     "name": "stdout",
     "output_type": "stream",
     "text": [
      "Step: 10000 with Train Loss:  0.009687623009085655\n"
     ]
    },
    {
     "name": "stderr",
     "output_type": "stream",
     "text": [
      "15012it [03:16, 76.96it/s]"
     ]
    },
    {
     "name": "stdout",
     "output_type": "stream",
     "text": [
      "Step: 15000 with Train Loss:  0.20051933825016022\n"
     ]
    },
    {
     "name": "stderr",
     "output_type": "stream",
     "text": [
      "20012it [04:21, 76.40it/s]"
     ]
    },
    {
     "name": "stdout",
     "output_type": "stream",
     "text": [
      "Step: 20000 with Train Loss:  0.010287520475685596\n"
     ]
    },
    {
     "name": "stderr",
     "output_type": "stream",
     "text": [
      "20480it [04:27, 76.45it/s]\n"
     ]
    },
    {
     "name": "stdout",
     "output_type": "stream",
     "text": [
      "Epoch: 5 | Val Acc:  tensor(0.3928, device='cuda:0')\n"
     ]
    }
   ],
   "source": [
    "train_losses = []\n",
    "val_accs = []\n",
    "\n",
    "\n",
    "for epoch in range(num_epochs):\n",
    "\n",
    "    # Training epoch\n",
    "    linear_nn.train()\n",
    "    epoch_train_loss = 0.0\n",
    "\n",
    "    for i, batch in tqdm(enumerate(train_dataloader)):\n",
    "        X = batch[0].to(device)\n",
    "        y = index_map[batch[1].to(device)]\n",
    "        outputs = linear_nn(X)\n",
    "        soft_labels = scaled_matrix[y]\n",
    "        loss = mse_criterion(outputs, soft_labels, y)\n",
    "        loss.backward()\n",
    "        optimizer.step()\n",
    "        optimizer.zero_grad()\n",
    "        epoch_train_loss += loss.item()\n",
    "\n",
    "        if i % 5000 == 0:\n",
    "            print(f'Step: {i} with Train Loss: ', loss.item())\n",
    "\n",
    "    avg_train_loss = epoch_train_loss / len(train_dataloader)\n",
    "    train_losses.append(avg_train_loss)\n",
    "\n",
    "    # validation epoch\n",
    "    linear_nn.eval()\n",
    "    correct = 0\n",
    "    with torch.no_grad():\n",
    "        for i, batch in enumerate(val_dataloader):\n",
    "            X = batch[0].to(device)\n",
    "            y = index_map[batch[1].to(device)]\n",
    "            outputs = linear_nn(X)\n",
    "            labels = outputs.argmax(dim=1)\n",
    "            correct += (labels == y).sum()\n",
    "\n",
    "    val_accuracy = correct / X_val.shape[0]\n",
    "    val_accs.append(val_accuracy.item())\n",
    "\n",
    "    print(\"Epoch: {} | Val Acc: \".format(epoch+1), correct/X_val.shape[0])"
   ]
  },
  {
   "cell_type": "code",
   "execution_count": 24,
   "metadata": {},
   "outputs": [
    {
     "data": {
      "image/png": "[encoded data removed]",
      "text/plain": [
       "<Figure size 1000x600 with 1 Axes>"
      ]
     },
     "metadata": {},
     "output_type": "display_data"
    }
   ],
   "source": [
    "\n",
    "plt.figure(figsize=(10, 6))\n",
    "plt.plot(range(1, num_epochs + 1), train_losses, label='Training Loss')\n",
    "plt.plot(range(1, num_epochs + 1), val_accs, label='Validation Accuracy')\n",
    "plt.xlabel('Epochs')\n",
    "plt.ylabel('Loss')\n",
    "plt.title('Training and Validation Loss')\n",
    "plt.legend()\n",
    "plt.show()\n"
   ]
  },
  {
   "cell_type": "code",
   "execution_count": 25,
   "metadata": {},
   "outputs": [
    {
     "name": "stdout",
     "output_type": "stream",
     "text": [
      "Top-1 Accuracy:  0.3927764892578125\n",
      "Top-3 Accuracy:  0.5523406982421875\n"
     ]
    }
   ],
   "source": [
    "linear_nn.eval()\n",
    "\n",
    "correct_top1 = 0\n",
    "correct_top3 = 0\n",
    "# Let's calculate the accuracy on the validation set\n",
    "for i, batch in enumerate(val_dataloader):\n",
    "    with torch.no_grad():\n",
    "        X = batch[0].to(device)\n",
    "        y = index_map[batch[1].to(device)]\n",
    "\n",
    "        outputs = linear_nn(X)\n",
    "\n",
    "        # Top-1 accuracy\n",
    "        labels_top1 = outputs.argmax(dim=1)\n",
    "        correct_top1 += (labels_top1 == y).sum()\n",
    "\n",
    "        # Top-3 accuracy\n",
    "        top3_preds = torch.topk(outputs, k=3, dim=1).indices\n",
    "        correct_top3 += sum([y[j] in top3_preds[j] for j in range(len(y))])\n",
    "\n",
    "# Calculate overall accuracy\n",
    "accuracy_top1 = correct_top1.item() / len(X_val)\n",
    "accuracy_top3 = correct_top3 / len(X_val)\n",
    "\n",
    "print(\"Top-1 Accuracy: \", accuracy_top1)\n",
    "print(\"Top-3 Accuracy: \", accuracy_top3)"
   ]
  },
  {
   "cell_type": "code",
   "execution_count": 28,
   "metadata": {},
   "outputs": [],
   "source": [
    "torch.save(linear_nn.state_dict(), 'saved_models/linear_probe_reduced.pth')\n",
    "raise\n",
    "# linear_nn.load_state_dict(torch.load(\"saved_models/linear_probe_sigmoid-bce_lr1e-3_epoch3_seed42.pth\"))"
   ]
  },
  {
   "cell_type": "markdown",
   "metadata": {},
   "source": [
    "### Load model\n",
    "\n",
    "##### Some qualitative checks on the linear probe"
   ]
  },
  {
   "cell_type": "code",
   "execution_count": null,
   "metadata": {},
   "outputs": [],
   "source": [
    "class LinearProbe(nn.Module):\n",
    "    def __init__(self, hdim=hidden_dim, vocab_size=len(tokenizer)):\n",
    "        super().__init__()\n",
    "        self.fc1 = nn.Linear(hdim, vocab_size, bias=False)\n",
    "        \n",
    "    def forward(self, X):\n",
    "        x = self.fc1(X)\n",
    "        return x\n",
    "\n",
    "linear_nn = LinearProbe()\n",
    "linear_nn.to(device)"
   ]
  },
  {
   "cell_type": "code",
   "execution_count": null,
   "metadata": {},
   "outputs": [],
   "source": [
    "\n",
    "model_path = 'saved_models/linear_probe_pinv-mse_lr1e-4_epoch4_exp7_lw60_pw0.5_seed42.pth'\n",
    "linear_nn.load_state_dict(torch.load(model_path))\n",
    "#linear_nn.load_state_dict(torch.load('saved_models/linear_probe_f2-f3_lr1e-3_epoch3_seed42_temp3.pth'))\n"
   ]
  },
  {
   "cell_type": "markdown",
   "metadata": {},
   "source": [
    "Get the accuracy on the validation dataset"
   ]
  },
  {
   "cell_type": "code",
   "execution_count": null,
   "metadata": {},
   "outputs": [],
   "source": [
    "linear_nn.eval()\n",
    "\n",
    "correct = 0\n",
    "# Let's calculate the accuracy on the validation set\n",
    "for i, batch in enumerate(val_dataloader):\n",
    "    with torch.no_grad():\n",
    "        X = batch[0].to(device)\n",
    "        y = batch[1].to(device)\n",
    "\n",
    "        outputs = linear_nn(X)\n",
    "        labels = outputs.argmax(dim=1)\n",
    "\n",
    "        correct += (labels == y).sum()\n",
    "\n",
    "print(\"Accuracy: \", correct.item()/X_val.shape[0])"
   ]
  },
  {
   "cell_type": "markdown",
   "metadata": {},
   "source": [
    "Some manual qualititive checks"
   ]
  },
  {
   "cell_type": "code",
   "execution_count": 15,
   "metadata": {},
   "outputs": [],
   "source": [
    "import seaborn as sns\n",
    "import matplotlib.pyplot as plt"
   ]
  },
  {
   "cell_type": "markdown",
   "metadata": {},
   "source": [
    "Check max and min values"
   ]
  },
  {
   "cell_type": "code",
   "execution_count": null,
   "metadata": {},
   "outputs": [],
   "source": [
    "# for every X in val_dataloader, get the output from linear_nn and find the top prediction value and plot it\n",
    "top_values = []\n",
    "for i, batch in enumerate(val_dataloader):\n",
    "    with torch.no_grad():\n",
    "        X = batch[0].to(device)\n",
    "        outputs = linear_nn(X)\n",
    "        top_values.extend(outputs.max(dim=1).values.cpu().numpy())\n",
    "        \n",
    "plt.figure(figsize=(10, 6))\n",
    "sns.histplot(top_values, bins=100)\n",
    "plt.xlabel('Top Prediction Value')\n",
    "plt.ylabel('Frequency')\n",
    "plt.title('Top Prediction Value Distribution')\n",
    "plt.show()\n"
   ]
  },
  {
   "cell_type": "code",
   "execution_count": null,
   "metadata": {},
   "outputs": [],
   "source": [
    "# for every X in val_dataloader, get the output from linear_nn and find the top prediction value and plot it\n",
    "top_values = []\n",
    "for i, batch in enumerate(val_dataloader):\n",
    "    with torch.no_grad():\n",
    "        X = batch[0].to(device)\n",
    "        outputs = linear_nn(X)\n",
    "        top_values.extend(outputs.min(dim=1).values.cpu().numpy())\n",
    "        \n",
    "plt.figure(figsize=(10, 6))\n",
    "sns.histplot(top_values, bins=100)\n",
    "plt.xlabel('Min Prediction Value')\n",
    "plt.ylabel('Frequency')\n",
    "plt.title('Top Prediction Value Distribution')\n",
    "plt.show()\n"
   ]
  },
  {
   "cell_type": "code",
   "execution_count": null,
   "metadata": {},
   "outputs": [],
   "source": [
    "def compute_scores_batch(outputs, indices, epsilon=1e-8, alpha=3):\n",
    "    \"\"\"\n",
    "    Args:\n",
    "        outputs (torch.Tensor): A 2D tensor of shape (batch_size, num_classes), containing the model's outputs.\n",
    "        indices (torch.Tensor): A 1D tensor of shape (batch_size,), containing the target indices.\n",
    "        epsilon (float): A small constant to avoid division by zero.\n",
    "        alpha (float): A scaling factor to penalize smaller differences.\n",
    "    Returns:\n",
    "        torch.Tensor: A 1D tensor of scores for all samples in the batch.\n",
    "    \"\"\"\n",
    "    # Gather the target values using indices\n",
    "    batch_size = outputs.size(0)\n",
    "    num_classes = outputs.size(1)\n",
    "\n",
    "    # Select the target values for each sample\n",
    "    v_target = outputs[torch.arange(batch_size), indices]\n",
    "\n",
    "    # Compute the difference by subtracting outputs from target values\n",
    "    diff = v_target.unsqueeze(1) - outputs\n",
    "\n",
    "    # Exclude the target index by setting its difference to zero\n",
    "    diff[torch.arange(batch_size), indices] = 0.0\n",
    "\n",
    "    # Apply penalization: smaller differences are penalized more\n",
    "    penalized_diff = diff ** alpha\n",
    "\n",
    "    # Compute the average penalized difference for each sample\n",
    "    scores = penalized_diff.sum(dim=1) / (num_classes - 1)\n",
    "\n",
    "    return scores\n",
    "\n",
    "\n",
    "# Process the entire validation set\n",
    "all_scores = []\n",
    "\n",
    "with torch.no_grad():\n",
    "    for batch in val_dataloader:\n",
    "        X = batch[0].to(device)  # Inputs\n",
    "        y = batch[1].to(device)  # Target indices\n",
    "        outputs = linear_nn(X)  # Model outputs (logits or predictions)\n",
    "\n",
    "        # Compute batch scores without a loop\n",
    "        batch_scores = compute_scores_batch(outputs, y)\n",
    "        all_scores.append(batch_scores)\n",
    "\n",
    "all_scores = torch.cat(all_scores, dim=0)\n",
    "\n",
    "# Concatenate scores and compute the average score\n",
    "average_score = torch.mean(all_scores)\n",
    "\n",
    "print(f\"Average Sparsity Score: {average_score.item()}\")"
   ]
  },
  {
   "cell_type": "code",
   "execution_count": null,
   "metadata": {},
   "outputs": [],
   "source": [
    "# for every X in val_dataloader, get the output from linear_nn and find the top prediction value and plot it\n",
    "top_values = []\n",
    "for i, batch in enumerate(val_dataloader):\n",
    "    with torch.no_grad():\n",
    "        X = batch[0].to(device)\n",
    "        outputs = linear_nn(X)\n",
    "        # find difference between top 2 values\n",
    "        top2 = outputs.topk(10, dim=1).values.cpu().numpy()\n",
    "        top_values.extend(top2[:,0] - top2[:, 1])\n",
    "        \n",
    "plt.figure(figsize=(10, 6))\n",
    "sns.histplot(top_values, bins=100)\n",
    "plt.xlabel('Top 2 Diff')\n",
    "plt.ylabel('Frequency')\n",
    "plt.title('Top 2 Diff Value Distribution')\n",
    "plt.show()\n"
   ]
  },
  {
   "cell_type": "code",
   "execution_count": 24,
   "metadata": {},
   "outputs": [],
   "source": [
    "# Check values like between -0.1 and 1\n",
    "min = -0.31\n",
    "max = 1.3\n",
    "linear_nn.eval()\n",
    "for i, batch in enumerate(val_dataloader):\n",
    "    with torch.no_grad():\n",
    "        X = batch[0].to(device)\n",
    "        outputs = linear_nn(X)\n",
    "        mask = (outputs <= min) | (outputs >= max)\n",
    "        filtered_tensor = outputs[mask]\n",
    "        assert filtered_tensor.shape[0] == 0, f\"Invalid values found: {filtered_tensor}\""
   ]
  },
  {
   "cell_type": "code",
   "execution_count": null,
   "metadata": {},
   "outputs": [],
   "source": [
    "linear_nn.eval()\n",
    "# sample data from val_dataloader\n",
    "X, y = next(iter(val_dataloader))\n",
    "X = X.to(device)\n",
    "y = y.to(device)\n",
    "outputs = linear_nn(X)\n",
    "# plot ouputs\n",
    "plt.figure(figsize=(10, 6))\n",
    "idx = 25\n",
    "\n",
    "plt.plot(outputs[idx].detach().cpu().numpy())\n",
    "top2 = outputs[idx].topk(2, dim=0).indices\n",
    "print(top2)\n",
    "\n",
    "print(tokenizer.convert_ids_to_tokens(top2))\n",
    "print(y[idx])\n",
    "plt.show()\n"
   ]
  },
  {
   "cell_type": "code",
   "execution_count": null,
   "metadata": {},
   "outputs": [],
   "source": [
    "import torch.nn.functional as F\n",
    "\n",
    "def calculate_entropy(logits):\n",
    "    probabilities = F.softmax(logits, dim=-1)\n",
    "    log_probabilities = F.log_softmax(logits, dim=-1)\n",
    "    entropy = -torch.sum(probabilities * log_probabilities, dim=-1)\n",
    "    return entropy\n",
    "\n",
    "linear_nn.eval()\n",
    "entropies = []\n",
    "\n",
    "with torch.no_grad():\n",
    "    for i, batch in enumerate(val_dataloader):\n",
    "        X = batch[0].to(device)\n",
    "        outputs = linear_nn(X)\n",
    "        entropy = calculate_entropy(outputs)\n",
    "        entropies.append(entropy.cpu())\n",
    "\n",
    "entropies = torch.cat(entropies).cpu().numpy()\n",
    "\n",
    "plt.figure(figsize=(10, 6))\n",
    "sns.histplot(entropies, bins=100, kde=True)\n",
    "plt.xlabel('Entropy')\n",
    "plt.ylabel('Frequency')\n",
    "plt.title('Entropy Distribution of Validation Outputs')\n",
    "plt.show()"
   ]
  },
  {
   "cell_type": "code",
   "execution_count": null,
   "metadata": {},
   "outputs": [],
   "source": [
    "idx = 40\n",
    "plt.figure(figsize=(3, 3))\n",
    "sns.histplot(outputs[idx].cpu(), bins=20, kde=True)\n",
    "plt.show()\n",
    "\n",
    "outputs[idx].topk(k=10)"
   ]
  },
  {
   "cell_type": "code",
   "execution_count": null,
   "metadata": {},
   "outputs": [],
   "source": [
    "print(\"Mean: \", outputs[idx].mean().item())\n",
    "print(\"Std Deviation: \", outputs[idx].std().item())"
   ]
  },
  {
   "cell_type": "markdown",
   "metadata": {},
   "source": [
    "### Build watermark matrix"
   ]
  },
  {
   "cell_type": "code",
   "execution_count": null,
   "metadata": {},
   "outputs": [],
   "source": [
    "unembedding = model.lm_head.weight.data\n",
    "\n",
    "\n",
    "rng = torch.Generator(device=unembedding.device)\n",
    "\n",
    "vocab_size = len(tokenizer)\n",
    "gamma = 0.50\n",
    "hash_key = 15485863\n",
    "\n",
    "\n",
    "def prf_lookup(input_ids):\n",
    "    return hash_key * input_ids[-1:].sum().item()\n",
    "\n",
    "\n",
    "def get_partition(input_ids):\n",
    "    prf_key = prf_lookup(input_ids)\n",
    "    rng.manual_seed(prf_key % (2**64 - 1))\n",
    "\n",
    "    greenlist_size = int(vocab_size * gamma)\n",
    "    vocab_permutation = torch.randperm(\n",
    "        vocab_size, device=unembedding.device, generator=rng)\n",
    "    greenlist_ids = vocab_permutation[:greenlist_size].to(\"cpu\")\n",
    "    redlist_ids = vocab_permutation[greenlist_size:].to(\"cpu\")\n",
    "    return greenlist_ids, redlist_ids\n",
    "\n",
    "# values x keys\n",
    "watermark_matrix = torch.zeros(len(tokenizer), len(tokenizer))\n",
    "\n",
    "\n",
    "for i in tqdm(range(len(tokenizer))):\n",
    "    greenlist_ids, redlist_ids = get_partition(torch.tensor([i]))\n",
    "    watermark_matrix[greenlist_ids, i] = 2.0\n",
    "    watermark_matrix[redlist_ids, i] = 0"
   ]
  },
  {
   "cell_type": "code",
   "execution_count": 35,
   "metadata": {},
   "outputs": [],
   "source": [
    "watermark_matrix = watermark_matrix.to(unembedding.device)\n",
    "l = linear_nn.fc1.weight.data.to(unembedding.device)\n",
    "deltas = torch.matmul(watermark_matrix, l)\n",
    "assert unembedding.shape == deltas.shape\n",
    "augmented_unembedding = unembedding + deltas\n",
    "\n",
    "model.lm_head.weight.data = augmented_unembedding\n"
   ]
  },
  {
   "cell_type": "code",
   "execution_count": 19,
   "metadata": {},
   "outputs": [],
   "source": [
    "    \n",
    "test_text = \"The cat sat on the \"\n",
    "inputs = tokenizer(test_text, return_tensors=\"pt\").to(model.device)\n",
    "with torch.no_grad():\n",
    "    output = model.generate(\n",
    "        **inputs, return_dict_in_generate=True,  max_length=10)\n",
    "\n"
   ]
  },
  {
   "cell_type": "code",
   "execution_count": null,
   "metadata": {},
   "outputs": [],
   "source": [
    "seq = output.sequences[0]\n",
    "tokenizer.decode(seq, skip_special_tokens=True)"
   ]
  },
  {
   "cell_type": "markdown",
   "metadata": {},
   "source": [
    "Also do the analysis using the watermark matrix (what i mean when i say i want the logits to be close)"
   ]
  },
  {
   "cell_type": "code",
   "execution_count": null,
   "metadata": {},
   "outputs": [],
   "source": [
    "watermark_matrix = torch.load(\"data/watermark_matrix_gamma0.50_simple1_key15485863.pt\")\n",
    "\n",
    "# dummy logits where everything is a small positive value\n",
    "# probe_outputs = torch.ones((10, 50277), dtype=torch.float32)/10\n",
    "probe_outputs = outputs\n",
    "wm_predicted = einops.einsum(probe_outputs.cpu(), watermark_matrix.T, \"b i, i j -> b j\")\n",
    "\n",
    "print(\"Watermark Delta Prediction: \", wm_predicted.shape)"
   ]
  },
  {
   "cell_type": "code",
   "execution_count": 78,
   "metadata": {},
   "outputs": [],
   "source": [
    "greenlist_ids, redlist_ids = get_partition(torch.tensor([187]))"
   ]
  },
  {
   "cell_type": "code",
   "execution_count": null,
   "metadata": {},
   "outputs": [],
   "source": [
    "print(\"Mean Green List: \", wm_predicted[0, greenlist_ids].mean().item())\n",
    "print(\"Mean Red List: \", wm_predicted[0, redlist_ids].mean().item())"
   ]
  },
  {
   "cell_type": "code",
   "execution_count": null,
   "metadata": {},
   "outputs": [],
   "source": [
    "plt.figure(figsize=(4, 3))\n",
    "sns.histplot(wm_predicted[0, greenlist_ids].cpu(), bins=30, kde=True, color=\"green\")\n",
    "# sns.histplot(wm_predicted[0, redlist_ids].cpu(), bins=30, kde=True, color=\"red\")\n",
    "plt.show()"
   ]
  },
  {
   "cell_type": "markdown",
   "metadata": {},
   "source": [
    "##### Magnitude of the Logits :- Clean Analysis of the Logits"
   ]
  },
  {
   "cell_type": "code",
   "execution_count": null,
   "metadata": {},
   "outputs": [],
   "source": []
  },
  {
   "cell_type": "code",
   "execution_count": null,
   "metadata": {},
   "outputs": [],
   "source": []
  },
  {
   "cell_type": "code",
   "execution_count": null,
   "metadata": {},
   "outputs": [],
   "source": []
  },
  {
   "cell_type": "code",
   "execution_count": null,
   "metadata": {},
   "outputs": [],
   "source": []
  },
  {
   "cell_type": "code",
   "execution_count": null,
   "metadata": {},
   "outputs": [],
   "source": []
  },
  {
   "cell_type": "markdown",
   "metadata": {},
   "source": [
    "##### Check how biased these logits are using this loss: f2 + f3 loss"
   ]
  },
  {
   "cell_type": "code",
   "execution_count": null,
   "metadata": {},
   "outputs": [],
   "source": [
    "plt.figure(figsize=(4, 3))\n",
    "sns.histplot(wm_predicted[7].cpu(), bins=30, kde=True)\n",
    "plt.show()"
   ]
  },
  {
   "cell_type": "code",
   "execution_count": 62,
   "metadata": {},
   "outputs": [],
   "source": [
    "greenlist_ids, redlist_ids = get_partition(torch.tensor([y[6]]))"
   ]
  },
  {
   "cell_type": "code",
   "execution_count": null,
   "metadata": {},
   "outputs": [],
   "source": [
    "plt.figure(figsize=(4, 3))\n",
    "sns.histplot(wm_predicted[6, greenlist_ids].cpu(), bins=30, kde=True, color=\"green\")\n",
    "sns.histplot(wm_predicted[6, redlist_ids].cpu(), bins=30, kde=True, color=\"red\")\n",
    "plt.show()"
   ]
  },
  {
   "cell_type": "markdown",
   "metadata": {},
   "source": [
    "##### Check the MSE loss on the watermark logits "
   ]
  },
  {
   "cell_type": "code",
   "execution_count": 15,
   "metadata": {},
   "outputs": [],
   "source": [
    "watermark_matrix = torch.load(\"data/watermark_matrix_gamma0.50_simple1_key15485863.pt\")\n",
    "# watermark_matrix = watermark_matrix.to(device)"
   ]
  },
  {
   "cell_type": "code",
   "execution_count": null,
   "metadata": {},
   "outputs": [],
   "source": [
    "mse_loss = nn.MSELoss()\n",
    "linear_nn.eval()\n",
    "\n",
    "total_loss = 0\n",
    "with torch.no_grad():\n",
    "    for i, batch in tqdm(enumerate(val_dataloader)):\n",
    "        X = batch[0]\n",
    "        y = batch[1]\n",
    "\n",
    "        y_onehot = F.one_hot(y, num_classes=len(tokenizer)).to(torch.float32)\n",
    "        y_onehot = y_onehot\n",
    "\n",
    "        outputs = linear_nn(X.to(device))\n",
    "        outputs = torch.sigmoid(outputs).to(\"cpu\")\n",
    "\n",
    "        wm_predicted = einops.einsum(outputs, watermark_matrix.T, \"b i, i j -> b j\")\n",
    "        wm_gt = watermark_matrix[:, y].T\n",
    "\n",
    "        loss = mse_loss(wm_predicted, wm_gt)\n",
    "        total_loss += loss.item()\n",
    "\n",
    "        if i >= 100:\n",
    "            break\n",
    "\n",
    "        #? to check if matrix mult is okay\n",
    "        # wm_generated = einops.einsum(y_onehot, watermark_matrix.T, \"b i, i j -> b j\")\n",
    "        # wm_gt = watermark_matrix[:, y].T\n",
    "        # diff = wm_generated - wm_gt\n",
    "        # print(diff.sum())\n",
    "\n",
    "# len(val_dataloader) * val_dataloader.batch_size"
   ]
  },
  {
   "cell_type": "code",
   "execution_count": null,
   "metadata": {},
   "outputs": [],
   "source": [
    "avg_val_loss = total_loss/100\n",
    "print(avg_val_loss)"
   ]
  },
  {
   "cell_type": "markdown",
   "metadata": {},
   "source": [
    "### Build the watermark matrix"
   ]
  },
  {
   "cell_type": "markdown",
   "metadata": {},
   "source": [
    "Generate the watermark matrix and save it"
   ]
  },
  {
   "cell_type": "code",
   "execution_count": null,
   "metadata": {},
   "outputs": [],
   "source": [
    "print(\"Device: \", device)"
   ]
  },
  {
   "cell_type": "code",
   "execution_count": 77,
   "metadata": {},
   "outputs": [],
   "source": [
    "# the column i of this matrix should be the green-red split for the column i.\n",
    "rng = torch.Generator(device=device)\n",
    "\n",
    "vocab_size = len(tokenizer)\n",
    "gamma = 0.50\n",
    "hash_key = 15485863\n",
    "\n",
    "def prf_lookup(input_ids):\n",
    "    return hash_key * input_ids[-1:].sum().item()\n",
    "\n",
    "def get_partition(input_ids):\n",
    "    prf_key = prf_lookup(input_ids)\n",
    "    rng.manual_seed(prf_key % (2**64 - 1))\n",
    "\n",
    "    greenlist_size = int(vocab_size * gamma)\n",
    "    vocab_permutation = torch.randperm(vocab_size, device=device, generator=rng)\n",
    "    greenlist_ids = vocab_permutation[:greenlist_size].to(\"cpu\")\n",
    "    redlist_ids = vocab_permutation[greenlist_size:].to(\"cpu\")\n",
    "    return greenlist_ids, redlist_ids"
   ]
  },
  {
   "cell_type": "code",
   "execution_count": null,
   "metadata": {},
   "outputs": [],
   "source": [
    "watermark_matrix = torch.zeros(len(tokenizer), len(tokenizer))\n",
    "\n",
    "for i in tqdm(range(len(tokenizer))):\n",
    "    greenlist_ids, redlist_ids = get_partition(torch.tensor([i]))\n",
    "    watermark_matrix[greenlist_ids, i] = 1.0\n",
    "    watermark_matrix[redlist_ids, i] = -1.0"
   ]
  },
  {
   "cell_type": "code",
   "execution_count": 9,
   "metadata": {},
   "outputs": [],
   "source": [
    "torch.save(watermark_matrix, \"data/watermark_matrix_gamma0.50_simple1_key15485863.pt\")"
   ]
  },
  {
   "cell_type": "markdown",
   "metadata": {},
   "source": [
    "Load the watermark matrix"
   ]
  },
  {
   "cell_type": "code",
   "execution_count": 12,
   "metadata": {},
   "outputs": [],
   "source": [
    "watermark_matrix = torch.load(\"data/watermark_matrix_gamma0.50_simple1_key15485863.pt\")"
   ]
  },
  {
   "cell_type": "markdown",
   "metadata": {},
   "source": [
    "### Two Hidden Layer NN with second matrix frozen as the watermark matrix\n",
    "\n",
    "Things tried\n",
    "\n",
    "- Regression loss between the multi-hot encoded vectors and logits (does not work well).\n",
    "- Formulate the problem as multi-label classification problem. `saved as config 2`\n",
    "- Loss as the cosine similarity between the outputs of the model and watermark logits (make it +1 and -1).\n",
    "\n",
    "TODO:\n",
    "\n",
    "- [] Capped ReLU.\n",
    "- [] Sparsity in the intermediate representation."
   ]
  },
  {
   "cell_type": "code",
   "execution_count": 13,
   "metadata": {},
   "outputs": [],
   "source": [
    "class WatermarkNetwork(nn.Module):\n",
    "    def __init__(self, hdim=2048, vocab_size=len(tokenizer), watermark_matrix=None):\n",
    "        super().__init__()\n",
    "        self.fc1 = nn.Linear(hdim, vocab_size)\n",
    "        self.act1 = nn.ReLU()\n",
    "        self.fc2 = nn.Linear(vocab_size, vocab_size)\n",
    "\n",
    "        # set the watermark matrix as the second layer\n",
    "        self.fc2.weight = nn.Parameter(watermark_matrix, requires_grad=False)\n",
    "        self.fc2.bias = nn.Parameter(torch.zeros(vocab_size), requires_grad=False)\n",
    "\n",
    "    def forward(self, x):\n",
    "        x = self.act1(self.fc1(x))\n",
    "        return self.fc2(x)"
   ]
  },
  {
   "cell_type": "code",
   "execution_count": null,
   "metadata": {},
   "outputs": [],
   "source": [
    "wmNet = WatermarkNetwork(watermark_matrix=watermark_matrix)\n",
    "wmNet.to(device)"
   ]
  },
  {
   "cell_type": "code",
   "execution_count": 15,
   "metadata": {},
   "outputs": [],
   "source": [
    "# Will try training the neural network with a regression loss on the watermark outputs\n",
    "batch_size = 64\n",
    "learning_rate = 1e-3\n",
    "\n",
    "train_dataloader = DataLoader(train_dataset, batch_size=batch_size, shuffle=True)\n",
    "val_dataloader = DataLoader(val_dataset, batch_size=32)\n",
    "\n",
    "# freeze the second layer\n",
    "wmNet.fc2.weight.requires_grad = False\n",
    "wmNet.fc2.bias.requires_grad = False\n",
    "\n",
    "# criterion = nn.MSELoss()\n",
    "criterion = nn.BCEWithLogitsLoss()\n",
    "optimizer = torch.optim.AdamW(wmNet.parameters(), lr=learning_rate)"
   ]
  },
  {
   "cell_type": "code",
   "execution_count": null,
   "metadata": {},
   "outputs": [],
   "source": [
    "for name, param in wmNet.named_parameters():\n",
    "    print(f\"{name}: requires_grad={param.requires_grad}\")"
   ]
  },
  {
   "cell_type": "code",
   "execution_count": null,
   "metadata": {},
   "outputs": [],
   "source": [
    "# Count the total number of parameters\n",
    "total_params = sum(p.numel() for p in wmNet.parameters() if p.requires_grad)\n",
    "print(\"Total number of trainable parameters:\", total_params)"
   ]
  },
  {
   "cell_type": "code",
   "execution_count": null,
   "metadata": {},
   "outputs": [],
   "source": [
    "num_epochs = 1\n",
    "\n",
    "for epoch in range(num_epochs):\n",
    "    for i, batch  in tqdm(enumerate(train_dataloader)):\n",
    "        \n",
    "        X = batch[0].to(device)\n",
    "        y = batch[1].to(device)\n",
    "\n",
    "        output = wmNet(X)\n",
    "        targets = watermark_matrix[:, y.to(\"cpu\")]\n",
    "        targets = targets.permute(1, 0).to(device)\n",
    "\n",
    "        loss = criterion(output, targets)\n",
    "\n",
    "        loss.backward()\n",
    "        optimizer.step()\n",
    "        optimizer.zero_grad()\n",
    "\n",
    "        if i % 1000 == 0:\n",
    "            print(f'Step [{i + 1}/{len(train_dataloader)}], Loss: {loss.item():.4f}')"
   ]
  },
  {
   "cell_type": "code",
   "execution_count": 44,
   "metadata": {},
   "outputs": [],
   "source": [
    "torch.save(wmNet.state_dict(), 'saved_models/wm_config2.pth')"
   ]
  },
  {
   "cell_type": "markdown",
   "metadata": {},
   "source": [
    "### Generate some text and (1) "
   ]
  }
 ],
 "metadata": {
  "kernelspec": {
   "display_name": "venv",
   "language": "python",
   "name": "python3"
  },
  "language_info": {
   "codemirror_mode": {
    "name": "ipython",
    "version": 3
   },
   "file_extension": ".py",
   "mimetype": "text/x-python",
   "name": "python",
   "nbconvert_exporter": "python",
   "pygments_lexer": "ipython3",
   "version": "3.12.5"
  }
 },
 "nbformat": 4,
 "nbformat_minor": 2
}
